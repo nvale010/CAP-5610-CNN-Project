{
  "nbformat": 4,
  "nbformat_minor": 0,
  "metadata": {
    "colab": {
      "name": "ProjectNotebook_MobileNet.ipynb",
      "provenance": [],
      "collapsed_sections": []
    },
    "kernelspec": {
      "display_name": "Python 3",
      "name": "python3"
    },
    "language_info": {
      "name": "python"
    }
  },
  "cells": [
    {
      "cell_type": "code",
      "metadata": {
        "colab": {
          "base_uri": "https://localhost:8080/"
        },
        "id": "kuqDEiiEnKGb",
        "outputId": "806fc1ed-f7f8-4375-d064-e90c3f190336"
      },
      "source": [
        "from google.colab import drive\n",
        "drive.mount('/content/drive')"
      ],
      "execution_count": 1,
      "outputs": [
        {
          "output_type": "stream",
          "name": "stdout",
          "text": [
            "Drive already mounted at /content/drive; to attempt to forcibly remount, call drive.mount(\"/content/drive\", force_remount=True).\n"
          ]
        }
      ]
    },
    {
      "cell_type": "markdown",
      "metadata": {
        "id": "Sip4-l6LAn08"
      },
      "source": [
        "Steps before preprocessing"
      ]
    },
    {
      "cell_type": "code",
      "metadata": {
        "id": "-kYC0cksdjRa"
      },
      "source": [
        "# creates two separate folders to store train and validation images per skin cancer name\n",
        "import os \n",
        "import errno\n",
        "\n",
        "os.mkdir(\"/content/drive/MyDrive/data/base_dir\")\n",
        "image_class = ['nv','mel','bkl','bcc','akiec','vasc','df']\n",
        "\n",
        "# Makes 3 directories, base_dir, train_dir inside base_dir, and val_dir inside base_dir\n",
        "try:\n",
        "    os.mkdir(\"/content/drive/MyDrive/data/base_dir\")\n",
        "except OSError as exc:\n",
        "    if exc.errno != errno.EEXIST:\n",
        "        raise\n",
        "    pass\n",
        "\n",
        "train_dir = os.path.join(\"/content/drive/MyDrive/data/base_dir\", 'train_dir')\n",
        "try:\n",
        "  os.mkdir(train_dir)\n",
        "except OSError as exc:\n",
        "    if exc.errno != errno.EEXIST:\n",
        "        raise\n",
        "    pass\n",
        "\n",
        "val_dir = os.path.join(\"/content/drive/MyDrive/data/base_dir\", 'val_dir')\n",
        "try: \n",
        "  os.mkdir(val_dir)\n",
        "except OSError as exc:\n",
        "    if exc.errno != errno.EEXIST:\n",
        "        raise\n",
        "    pass\n",
        "\n",
        "try: \n",
        "  for x in image_class:\n",
        "    os.mkdir(train_dir+'/'+x)\n",
        "except OSError as exc:\n",
        "    if exc.errno != errno.EEXIST:\n",
        "        raise\n",
        "    pass\n",
        "\n",
        "try: \n",
        "  for x in image_class:\n",
        "    os.mkdir(val_dir+'/'+x)\n",
        "except OSError as exc:\n",
        "    if exc.errno != errno.EEXIST:\n",
        "        raise\n",
        "    pass\n"
      ],
      "execution_count": null,
      "outputs": []
    },
    {
      "cell_type": "code",
      "metadata": {
        "id": "M5Xgw8CGhS14"
      },
      "source": [
        "#importing necessary libraries\n",
        "import pandas as pd\n",
        "import numpy as np\n",
        "import os"
      ],
      "execution_count": 2,
      "outputs": []
    },
    {
      "cell_type": "code",
      "metadata": {
        "id": "GQ8GUtrH8xF0"
      },
      "source": [
        "#reading dataframe\n",
        "balanced_df = pd.read_csv('/content/drive/MyDrive/data/dataframe.csv', index_col= False)"
      ],
      "execution_count": 3,
      "outputs": []
    },
    {
      "cell_type": "code",
      "metadata": {
        "id": "dZ5owF3sEDgz"
      },
      "source": [
        "balanced_df = balanced_df.drop('Unnamed: 0',axis=1)"
      ],
      "execution_count": 4,
      "outputs": []
    },
    {
      "cell_type": "code",
      "metadata": {
        "id": "q9oLfurHChf5"
      },
      "source": [
        "df = balanced_df.copy()"
      ],
      "execution_count": 5,
      "outputs": []
    },
    {
      "cell_type": "code",
      "metadata": {
        "id": "u-YKsBLr_468"
      },
      "source": [
        "y = df.dx"
      ],
      "execution_count": 6,
      "outputs": []
    },
    {
      "cell_type": "code",
      "metadata": {
        "id": "U51Qyc0biLww"
      },
      "source": [
        "#splitting dataframe 90/10 stratifying y\n",
        "from sklearn.model_selection import train_test_split\n",
        "df_train, df_val = train_test_split(df, test_size=0.1, random_state=101, stratify=y)"
      ],
      "execution_count": null,
      "outputs": []
    },
    {
      "cell_type": "code",
      "metadata": {
        "id": "KiCPvbUceb03"
      },
      "source": [
        "image_index = df.set_index('image_id', inplace=True)"
      ],
      "execution_count": null,
      "outputs": []
    },
    {
      "cell_type": "code",
      "metadata": {
        "id": "K_IwDw1ctnPC"
      },
      "source": [
        "#creating two lists of image ids stored in the train and val data\n",
        "train_list = list(df_train['image_id'])\n",
        "val_list = list(df_val['image_id'])"
      ],
      "execution_count": null,
      "outputs": []
    },
    {
      "cell_type": "code",
      "metadata": {
        "id": "p1ItvXV2dPLc"
      },
      "source": [
        "y_train = []\n",
        "y_valid = []"
      ],
      "execution_count": 70,
      "outputs": []
    },
    {
      "cell_type": "code",
      "metadata": {
        "id": "UXHV_UdY4Nf5"
      },
      "source": [
        "# Get a list of images in each of the two folders\n",
        "folder_1 = os.listdir('/content/drive/MyDrive/data/HAM10000_images_part_1')\n",
        "folder_2 = os.listdir('/content/drive/MyDrive/data/HAM10000_images_part_2')"
      ],
      "execution_count": null,
      "outputs": []
    },
    {
      "cell_type": "code",
      "metadata": {
        "id": "sk0xcNdQdsiH"
      },
      "source": [
        "import shutil"
      ],
      "execution_count": null,
      "outputs": []
    },
    {
      "cell_type": "code",
      "metadata": {
        "id": "JqzTSytNdybr"
      },
      "source": [
        "#transferring the training images\n",
        "for image in train_list:\n",
        "\n",
        "    fname = image + '.jpg'\n",
        "    label = df.loc[image, 'dx']\n",
        "\n",
        "    if fname in folder_1:\n",
        "        # source path to image\n",
        "        src = os.path.join('/content/drive/MyDrive/data/HAM10000_images_part_1', fname)\n",
        "        # destination path to image\n",
        "        dst = os.path.join(train_dir, label, fname)\n",
        "        # copy the image from the source to the destination\n",
        "        shutil.copyfile(src, dst)\n",
        "\n",
        "    if fname in folder_2:\n",
        "        # source path to image\n",
        "        src = os.path.join('/content/drive/MyDrive/data/HAM10000_images_part_2', fname)\n",
        "        # destination path to image\n",
        "        dst = os.path.join(train_dir, label, fname)\n",
        "        # copy the image from the source to the destination\n",
        "        shutil.copyfile(src, dst)\n"
      ],
      "execution_count": null,
      "outputs": []
    },
    {
      "cell_type": "code",
      "metadata": {
        "id": "uAARwf1zH-wJ"
      },
      "source": [
        "#transferring the validation images\n",
        "for image in val_list:\n",
        "\n",
        "    fname = image + '.jpg'\n",
        "    label = df.loc[image, 'dx']\n",
        "\n",
        "    if fname in folder_1:\n",
        "        # source path to image\n",
        "        src = os.path.join('/content/drive/MyDrive/data/HAM10000_images_part_1', fname)\n",
        "        # destination path to image\n",
        "        dst = os.path.join(val_dir, label, fname)\n",
        "        # copy the image from the source to the destination\n",
        "        shutil.copyfile(src, dst)\n",
        "\n",
        "    if fname in folder_2:\n",
        "        # source path to image\n",
        "        src = os.path.join('/content/drive/MyDrive/data/HAM10000_images_part_2', fname)\n",
        "        # destination path to image\n",
        "        dst = os.path.join(val_dir, label, fname)\n",
        "        # copy the image from the source to the destination\n",
        "        shutil.copyfile(src, dst)"
      ],
      "execution_count": null,
      "outputs": []
    },
    {
      "cell_type": "markdown",
      "metadata": {
        "id": "6GYl6IHRA4MY"
      },
      "source": [
        "Preprocessing"
      ]
    },
    {
      "cell_type": "code",
      "metadata": {
        "colab": {
          "base_uri": "https://localhost:8080/"
        },
        "id": "0W74v5Z_R0kc",
        "outputId": "df48b44d-b270-4d4f-c386-06c8e0e7ea7e"
      },
      "source": [
        "#importing necessary libraries again\n",
        "from keras.preprocessing.image import ImageDataGenerator\n",
        "import keras \n",
        "print(df.head())\n",
        "image_class = ['nv','mel','bkl','bcc','akiec','vasc','df']"
      ],
      "execution_count": 7,
      "outputs": [
        {
          "output_type": "stream",
          "name": "stdout",
          "text": [
            "     lesion_id      image_id   dx dx_type   age   sex localization\n",
            "0  HAM_0000118  ISIC_0027419  bkl   histo  80.0  male        scalp\n",
            "1  HAM_0000118  ISIC_0025030  bkl   histo  80.0  male        scalp\n",
            "2  HAM_0002730  ISIC_0026769  bkl   histo  80.0  male        scalp\n",
            "3  HAM_0002730  ISIC_0025661  bkl   histo  80.0  male        scalp\n",
            "4  HAM_0001466  ISIC_0031633  bkl   histo  75.0  male          ear\n"
          ]
        }
      ]
    },
    {
      "cell_type": "code",
      "metadata": {
        "id": "0R_4x6v8R5vL"
      },
      "source": [
        "train_path = '/content/drive/MyDrive/data/base_dir/train_dir/'\n",
        "valid_path = '/content/drive/MyDrive/data/base_dir/val_dir/'"
      ],
      "execution_count": 8,
      "outputs": []
    },
    {
      "cell_type": "code",
      "metadata": {
        "id": "_sm7FSfecw8i"
      },
      "source": [
        "from sklearn.preprocessing import LabelEncoder"
      ],
      "execution_count": 71,
      "outputs": []
    },
    {
      "cell_type": "code",
      "metadata": {
        "id": "mvP_gOe8cyb4"
      },
      "source": [
        "#encoding the classes\n",
        "Encoder_X = LabelEncoder()\n",
        "for col in df.columns:\n",
        "  if df.dtypes[col] == 'object':\n",
        "    df[col] = col + '_' + df[col].map(str)\n",
        "    df[col] = Encoder_X.fit_transform(df[col])\n",
        "y_train = df['dx']"
      ],
      "execution_count": 72,
      "outputs": []
    },
    {
      "cell_type": "code",
      "metadata": {
        "id": "HeqMwdQFc624"
      },
      "source": [
        "from numpy import array \n",
        "from tensorflow.keras.utils import to_categorical\n",
        "\n",
        "y = array(y_train)\n",
        "y = to_categorical(y)"
      ],
      "execution_count": 73,
      "outputs": []
    },
    {
      "cell_type": "code",
      "metadata": {
        "colab": {
          "base_uri": "https://localhost:8080/"
        },
        "id": "oAjp9BagSILh",
        "outputId": "5097f619-57a0-4ba7-e48a-2c5cb1e461f1"
      },
      "source": [
        "#preprocessing and resizing images\n",
        "image_size = 224\n",
        "num_train_samples = 42296\n",
        "num_val_samples = 4700\n",
        "train_batch_size = 100\n",
        "val_batch_size = 100\n",
        "t = ImageDataGenerator(preprocessing_function=preprocess_input)\n",
        "v = ImageDataGenerator(preprocessing_function=preprocess_input)\n",
        "train_batches = t.flow_from_directory(train_path,\n",
        "                                    target_size=(image_size, image_size),classes = image_class,\n",
        "                                    batch_size=train_batch_size)\n",
        "\n",
        "valid_batches = v.flow_from_directory(\n",
        "                                    valid_path,\n",
        "                                    target_size=(image_size, image_size),classes = image_class,\n",
        "                                    batch_size=val_batch_size)"
      ],
      "execution_count": 10,
      "outputs": [
        {
          "output_type": "stream",
          "name": "stdout",
          "text": [
            "Found 42296 images belonging to 7 classes.\n",
            "Found 4700 images belonging to 7 classes.\n"
          ]
        }
      ]
    },
    {
      "cell_type": "code",
      "metadata": {
        "id": "tQrlQq58TKTU"
      },
      "source": [
        "train_steps = np.ceil(num_train_samples / train_batch_size)\n",
        "val_steps = np.ceil(num_val_samples / val_batch_size)"
      ],
      "execution_count": 11,
      "outputs": []
    },
    {
      "cell_type": "markdown",
      "metadata": {
        "id": "9Vy_rKDSBEfl"
      },
      "source": [
        "Tranfer Learning\n",
        "\n",
        "\n",
        "\n"
      ]
    },
    {
      "cell_type": "code",
      "metadata": {
        "id": "Yk2gudHsToh7"
      },
      "source": [
        "import keras\n",
        "from keras.models import Sequential\n",
        "from keras.layers import Dense, Activation,GlobalAveragePooling2D\n",
        "from keras.layers import Conv2D, MaxPool2D, Dropout, Flatten,BatchNormalization\n",
        "from keras.callbacks import ReduceLROnPlateau, ModelCheckpoint\n",
        "from keras.models import Model\n",
        "from keras.applications.mobilenet import MobileNet\n",
        "from tensorflow.keras.optimizers import Adam\n",
        "from keras.metrics import categorical_accuracy\n",
        "from tensorflow.keras import losses\n",
        "from keras.applications.mobilenet import preprocess_input\n",
        "from PIL import Image"
      ],
      "execution_count": 9,
      "outputs": []
    },
    {
      "cell_type": "code",
      "metadata": {
        "colab": {
          "base_uri": "https://localhost:8080/"
        },
        "id": "xgQ6ZFIee07j",
        "outputId": "37f46d5f-bfad-424a-add7-cc96b44bbf0d"
      },
      "source": [
        "#importing model\n",
        "mobile = keras.applications.mobilenet.MobileNet(weights='imagenet',input_shape=(224,224,3),include_top=False)"
      ],
      "execution_count": 12,
      "outputs": [
        {
          "output_type": "stream",
          "name": "stdout",
          "text": [
            "Downloading data from https://storage.googleapis.com/tensorflow/keras-applications/mobilenet/mobilenet_1_0_224_tf_no_top.h5\n",
            "17227776/17225924 [==============================] - 0s 0us/step\n",
            "17235968/17225924 [==============================] - 0s 0us/step\n"
          ]
        }
      ]
    },
    {
      "cell_type": "code",
      "metadata": {
        "id": "FlP17FMPlYiq"
      },
      "source": [
        "#model without the first 6 layers\n",
        "x = mobile.layers[-6].output\n",
        "\n",
        "# Adds a dropout, an average pooling layer, and dense layer for predictions\n",
        "\n",
        "x= keras.layers.GlobalAveragePooling2D()(x)\n",
        "x = Dropout(0.25)(x)\n",
        "predictions = Dense(7, activation='softmax')(x)"
      ],
      "execution_count": 13,
      "outputs": []
    },
    {
      "cell_type": "code",
      "metadata": {
        "id": "MqIJEqM4fHwb"
      },
      "source": [
        "model=Model(inputs=mobile.input,outputs=predictions)"
      ],
      "execution_count": 14,
      "outputs": []
    },
    {
      "cell_type": "code",
      "metadata": {
        "id": "DWUkZ-JLfLGs"
      },
      "source": [
        "# Freeze the weights of the layers that we aren't training (training the last 23)\n",
        "for layer in model.layers[:-23]:\n",
        "    layer.trainable=False"
      ],
      "execution_count": 15,
      "outputs": []
    },
    {
      "cell_type": "code",
      "metadata": {
        "id": "kJINKO5qRftD"
      },
      "source": [
        "#model compilation\n",
        "model.compile('adam', loss='categorical_crossentropy', metrics=['accuracy'])\n"
      ],
      "execution_count": 16,
      "outputs": []
    },
    {
      "cell_type": "code",
      "metadata": {
        "id": "ofqwAzSSSQU2"
      },
      "source": [
        "reduce_lr = ReduceLROnPlateau(monitor='val_acc', factor=0.5, patience=2,\n",
        "                              verbose=1, mode='max', min_lr=0.00001)"
      ],
      "execution_count": 17,
      "outputs": []
    },
    {
      "cell_type": "code",
      "metadata": {
        "colab": {
          "base_uri": "https://localhost:8080/"
        },
        "id": "xIbPWheKSeHq",
        "outputId": "36ad50b8-a492-4ef8-cff7-2f17c7479fd9"
      },
      "source": [
        "history = model.fit(train_batches,\n",
        "                              steps_per_epoch=train_steps,\n",
        "                              epochs=10,\n",
        "                              verbose=1)"
      ],
      "execution_count": 18,
      "outputs": [
        {
          "output_type": "stream",
          "name": "stdout",
          "text": [
            "Epoch 1/10\n",
            "91/91 [==============================] - 3007s 33s/step - loss: 0.9675 - accuracy: 0.6731\n",
            "Epoch 2/10\n",
            "91/91 [==============================] - 2339s 26s/step - loss: 0.4450 - accuracy: 0.8423\n",
            "Epoch 3/10\n",
            "91/91 [==============================] - 1831s 20s/step - loss: 0.2994 - accuracy: 0.8923\n",
            "Epoch 4/10\n",
            "91/91 [==============================] - 1501s 16s/step - loss: 0.2518 - accuracy: 0.9061\n",
            "Epoch 5/10\n",
            "91/91 [==============================] - 1215s 13s/step - loss: 0.1970 - accuracy: 0.9299\n",
            "Epoch 6/10\n",
            "91/91 [==============================] - 981s 11s/step - loss: 0.1666 - accuracy: 0.9385\n",
            "Epoch 7/10\n",
            "91/91 [==============================] - 808s 9s/step - loss: 0.1286 - accuracy: 0.9554\n",
            "Epoch 8/10\n",
            "91/91 [==============================] - 699s 8s/step - loss: 0.1030 - accuracy: 0.9636\n",
            "Epoch 9/10\n",
            "91/91 [==============================] - 648s 7s/step - loss: 0.1027 - accuracy: 0.9648\n",
            "Epoch 10/10\n",
            "91/91 [==============================] - 600s 7s/step - loss: 0.0804 - accuracy: 0.9707\n"
          ]
        }
      ]
    },
    {
      "cell_type": "code",
      "metadata": {
        "id": "3dpc3jY9ZXsE"
      },
      "source": [
        "model.save(\"model.h5\")"
      ],
      "execution_count": 19,
      "outputs": []
    },
    {
      "cell_type": "code",
      "metadata": {
        "colab": {
          "base_uri": "https://localhost:8080/"
        },
        "id": "cEW19ULpfEgd",
        "outputId": "9d14e88c-1ea4-4d3c-b675-6911539332e2"
      },
      "source": [
        "acc_valid = model.evaluate(valid_batches)\n",
        "print(acc_valid)"
      ],
      "execution_count": 20,
      "outputs": [
        {
          "output_type": "stream",
          "name": "stdout",
          "text": [
            "47/47 [==============================] - 1459s 32s/step - loss: 0.3557 - accuracy: 0.8872\n",
            "[0.3557277023792267, 0.8872340321540833]\n"
          ]
        }
      ]
    },
    {
      "cell_type": "code",
      "metadata": {
        "colab": {
          "base_uri": "https://localhost:8080/"
        },
        "id": "MbYJGhD8a1JI",
        "outputId": "b8b7098c-6ea0-4357-a9ce-5c92bd1286de"
      },
      "source": [
        "predictions = model.predict(valid_batches,verbose=1)"
      ],
      "execution_count": 22,
      "outputs": [
        {
          "output_type": "stream",
          "name": "stdout",
          "text": [
            "47/47 [==============================] - 172s 4s/step\n"
          ]
        }
      ]
    },
    {
      "cell_type": "markdown",
      "metadata": {
        "id": "YKou7OHXBJy0"
      },
      "source": [
        "Plotting the Results via Confusion Matrix and Graphs"
      ]
    },
    {
      "cell_type": "code",
      "metadata": {
        "id": "DVKUMt6Savrg"
      },
      "source": [
        "#importing libraries to be able to plot confusion matrix and graphs\n",
        "import itertools\n",
        "import matplotlib.pyplot as plt\n",
        "from sklearn.metrics import confusion_matrix"
      ],
      "execution_count": 21,
      "outputs": []
    },
    {
      "cell_type": "code",
      "metadata": {
        "id": "W3xjVNV1bJv0"
      },
      "source": [
        "test_labels = valid_batches.classes"
      ],
      "execution_count": 23,
      "outputs": []
    },
    {
      "cell_type": "code",
      "metadata": {
        "colab": {
          "base_uri": "https://localhost:8080/",
          "height": 436
        },
        "id": "oftyTmedbyPo",
        "outputId": "711e6287-84fd-4702-b3c0-64fb638462df"
      },
      "source": [
        "def plot_confusion_matrix(cm, classes, normalize=False, title='Confusion matrix', cmap=plt.cm.Blues):\n",
        "    \"\"\"\n",
        "    This function prints and plots the confusion matrix.\n",
        "    Normalization can be applied by setting `normalize=True`.\n",
        "    \"\"\"\n",
        "    if normalize:\n",
        "        cm = cm.astype('float') / cm.sum(axis=1)[:, np.newaxis]\n",
        "        print(\"Normalized confusion matrix\")\n",
        "    else:\n",
        "        print('Confusion matrix, without normalization')\n",
        "\n",
        "    print(cm)\n",
        "\n",
        "    plt.imshow(cm, interpolation='nearest', cmap=cmap)\n",
        "    plt.title(title)\n",
        "    plt.colorbar()\n",
        "    tick_marks = np.arange(len(classes))\n",
        "    plt.xticks(tick_marks, classes, rotation=45)\n",
        "    plt.yticks(tick_marks, classes)\n",
        "\n",
        "    fmt = '.2f' if normalize else 'd'\n",
        "    thresh = cm.max() / 2.\n",
        "    for i, j in itertools.product(range(cm.shape[0]), range(cm.shape[1])):\n",
        "        plt.text(j, i, format(cm[i, j], fmt),\n",
        "                 horizontalalignment=\"center\",\n",
        "                 color=\"white\" if cm[i, j] > thresh else \"black\")\n",
        "\n",
        "    plt.ylabel('True label')\n",
        "    plt.xlabel('Predicted label')\n",
        "    plt.tight_layout()\n",
        "    \n",
        "predfinal = predictions.argmax(axis=1)\n",
        "cm = confusion_matrix(test_labels, predfinal)\n",
        "\n",
        "cm_plot_labels = ['akiec', 'bcc', 'bkl', 'df', 'mel','nv', 'vasc']\n",
        "\n",
        "plot_confusion_matrix(cm, cm_plot_labels)"
      ],
      "execution_count": 77,
      "outputs": [
        {
          "output_type": "stream",
          "name": "stdout",
          "text": [
            "Confusion matrix, without normalization\n",
            "[[ 98 118  71  86  80  96 121]\n",
            " [ 89 104  71  87  89 104 127]\n",
            " [117 118  74  76  74 114  98]\n",
            " [ 90 107  76  98  73 112 116]\n",
            " [113 122  73  77  71 104 111]\n",
            " [101 135  66  74  62 108 126]\n",
            " [111 121  56  89  70 107 119]]\n"
          ]
        },
        {
          "output_type": "display_data",
          "data": {
            "image/png": "[encoded data removed]",
            "text/plain": [
              "<Figure size 432x288 with 2 Axes>"
            ]
          },
          "metadata": {
            "needs_background": "light"
          }
        }
      ]
    },
    {
      "cell_type": "code",
      "metadata": {
        "id": "kg5d0zBodlUI"
      },
      "source": [
        "# Function to plot model's train loss and train accuracy\n",
        "def plot_model_history(model_history):\n",
        "    fig, axs = plt.subplots(1,2,figsize=(15,5))\n",
        "    # summarize history for accuracy\n",
        "    axs[0].plot(range(1,len(model_history.history['accuracy'])+1),model_history.history['accuracy'])\n",
        "    axs[0].plot(range(1,len(model_history.history['loss'])+1),model_history.history['loss'])\n",
        "    axs[0].set_title('Augmented Images MobileNet Model Results')\n",
        "    axs[0].set_ylabel('Accuracy')\n",
        "    axs[0].set_xlabel('Epoch')\n",
        "    axs[0].set_xticks(np.arange(1,len(model_history.history['accuracy'])+1),len(model_history.history['accuracy'])/10)\n",
        "    axs[0].legend(['accuracy','loss'], loc='best')\n",
        "\n",
        "    # summarize history for loss\n",
        "    axs[1].plot(range(1,len(model_history.history['loss'])+1),model_history.history['loss'])\n",
        "    axs[1].set_title('Model Loss')\n",
        "    axs[1].set_ylabel('Loss')\n",
        "    axs[1].set_xlabel('Epoch')\n",
        "    axs[1].set_xticks(np.arange(1,len(model_history.history['loss'])+1),len(model_history.history['loss'])/10)\n",
        "    axs[1].legend(['train'], loc='best')\n",
        "    plt.show()"
      ],
      "execution_count": 64,
      "outputs": []
    },
    {
      "cell_type": "code",
      "metadata": {
        "colab": {
          "base_uri": "https://localhost:8080/",
          "height": 422
        },
        "id": "pwZNPNKVdoEU",
        "outputId": "0eb3bba7-8548-4b52-d710-21379e43a3a3"
      },
      "source": [
        "plot_model_history(history)"
      ],
      "execution_count": 65,
      "outputs": [
        {
          "output_type": "stream",
          "name": "stderr",
          "text": [
            "/usr/local/lib/python3.7/dist-packages/ipykernel_launcher.py:10: MatplotlibDeprecationWarning: Passing the minor parameter of set_xticks() positionally is deprecated since Matplotlib 3.2; the parameter will become keyword-only two minor releases later.\n",
            "  # Remove the CWD from sys.path while we load stuff.\n",
            "/usr/local/lib/python3.7/dist-packages/ipykernel_launcher.py:18: MatplotlibDeprecationWarning: Passing the minor parameter of set_xticks() positionally is deprecated since Matplotlib 3.2; the parameter will become keyword-only two minor releases later.\n"
          ]
        },
        {
          "output_type": "display_data",
          "data": {
            "image/png": "[encoded data removed]",
            "text/plain": [
              "<Figure size 1080x360 with 2 Axes>"
            ]
          },
          "metadata": {
            "needs_background": "light"
          }
        }
      ]
    }
  ]
}