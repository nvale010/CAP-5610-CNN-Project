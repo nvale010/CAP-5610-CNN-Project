{
 "cells": [
  {
   "cell_type": "code",
   "execution_count": 1,
   "id": "479fda1d-5a9e-4134-8180-ac3196013334",
   "metadata": {},
   "outputs": [],
   "source": [
    "import pandas as pd\n",
    "import numpy as np\n",
    "import matplotlib.pyplot as plt\n",
    "import seaborn as sns\n",
    "import operator\n",
    "from operator import itemgetter\n",
    "from sklearn.model_selection import train_test_split\n",
    "from sklearn.metrics import precision_recall_fscore_support\n",
    "from sklearn.metrics import accuracy_score\n",
    "%matplotlib inline"
   ]
  },
  {
   "cell_type": "code",
   "execution_count": 2,
   "id": "5f657c57-c245-4cca-a1b2-8d1418b29e2e",
   "metadata": {},
   "outputs": [],
   "source": [
    "from tensorflow.keras.layers import Input, Lambda, Dense, Flatten,Conv2D,MaxPooling2D,Dropout,BatchNormalization,GlobalMaxPooling2D,AveragePooling2D,Activation\n",
    "from tensorflow.keras.models import Model\n",
    "from tensorflow.keras.applications import ResNet152V2 \n",
    "from tensorflow.keras import datasets, losses\n",
    "\n",
    "from tensorflow.keras.preprocessing import image\n",
    "from tensorflow.keras.preprocessing.image import ImageDataGenerator,load_img\n",
    "from tensorflow.keras.models import Sequential\n",
    "import tensorflow as tf"
   ]
  },
  {
   "cell_type": "code",
   "execution_count": 3,
   "id": "e48204f8-e161-48ee-97be-8c768c76111d",
   "metadata": {},
   "outputs": [
    {
     "data": {
      "text/html": [
       "<div>\n",
       "<style scoped>\n",
       "    .dataframe tbody tr th:only-of-type {\n",
       "        vertical-align: middle;\n",
       "    }\n",
       "\n",
       "    .dataframe tbody tr th {\n",
       "        vertical-align: top;\n",
       "    }\n",
       "\n",
       "    .dataframe thead th {\n",
       "        text-align: right;\n",
       "    }\n",
       "</style>\n",
       "<table border=\"1\" class=\"dataframe\">\n",
       "  <thead>\n",
       "    <tr style=\"text-align: right;\">\n",
       "      <th></th>\n",
       "      <th>pixel0000</th>\n",
       "      <th>pixel0001</th>\n",
       "      <th>pixel0002</th>\n",
       "      <th>pixel0003</th>\n",
       "      <th>pixel0004</th>\n",
       "      <th>pixel0005</th>\n",
       "      <th>pixel0006</th>\n",
       "      <th>pixel0007</th>\n",
       "      <th>pixel0008</th>\n",
       "      <th>pixel0009</th>\n",
       "      <th>...</th>\n",
       "      <th>pixel0054</th>\n",
       "      <th>pixel0055</th>\n",
       "      <th>pixel0056</th>\n",
       "      <th>pixel0057</th>\n",
       "      <th>pixel0058</th>\n",
       "      <th>pixel0059</th>\n",
       "      <th>pixel0060</th>\n",
       "      <th>pixel0061</th>\n",
       "      <th>pixel0062</th>\n",
       "      <th>pixel0063</th>\n",
       "    </tr>\n",
       "  </thead>\n",
       "  <tbody>\n",
       "    <tr>\n",
       "      <th>0</th>\n",
       "      <td>172</td>\n",
       "      <td>182</td>\n",
       "      <td>191</td>\n",
       "      <td>183</td>\n",
       "      <td>180</td>\n",
       "      <td>181</td>\n",
       "      <td>165</td>\n",
       "      <td>164</td>\n",
       "      <td>173</td>\n",
       "      <td>192</td>\n",
       "      <td>...</td>\n",
       "      <td>171</td>\n",
       "      <td>159</td>\n",
       "      <td>171</td>\n",
       "      <td>181</td>\n",
       "      <td>201</td>\n",
       "      <td>192</td>\n",
       "      <td>184</td>\n",
       "      <td>183</td>\n",
       "      <td>171</td>\n",
       "      <td>157</td>\n",
       "    </tr>\n",
       "    <tr>\n",
       "      <th>1</th>\n",
       "      <td>98</td>\n",
       "      <td>149</td>\n",
       "      <td>170</td>\n",
       "      <td>193</td>\n",
       "      <td>183</td>\n",
       "      <td>162</td>\n",
       "      <td>164</td>\n",
       "      <td>100</td>\n",
       "      <td>137</td>\n",
       "      <td>175</td>\n",
       "      <td>...</td>\n",
       "      <td>166</td>\n",
       "      <td>135</td>\n",
       "      <td>83</td>\n",
       "      <td>159</td>\n",
       "      <td>186</td>\n",
       "      <td>185</td>\n",
       "      <td>192</td>\n",
       "      <td>181</td>\n",
       "      <td>143</td>\n",
       "      <td>58</td>\n",
       "    </tr>\n",
       "    <tr>\n",
       "      <th>2</th>\n",
       "      <td>165</td>\n",
       "      <td>164</td>\n",
       "      <td>179</td>\n",
       "      <td>172</td>\n",
       "      <td>152</td>\n",
       "      <td>163</td>\n",
       "      <td>169</td>\n",
       "      <td>151</td>\n",
       "      <td>168</td>\n",
       "      <td>174</td>\n",
       "      <td>...</td>\n",
       "      <td>175</td>\n",
       "      <td>169</td>\n",
       "      <td>152</td>\n",
       "      <td>171</td>\n",
       "      <td>185</td>\n",
       "      <td>189</td>\n",
       "      <td>193</td>\n",
       "      <td>176</td>\n",
       "      <td>168</td>\n",
       "      <td>151</td>\n",
       "    </tr>\n",
       "    <tr>\n",
       "      <th>3</th>\n",
       "      <td>109</td>\n",
       "      <td>159</td>\n",
       "      <td>167</td>\n",
       "      <td>166</td>\n",
       "      <td>163</td>\n",
       "      <td>159</td>\n",
       "      <td>155</td>\n",
       "      <td>96</td>\n",
       "      <td>141</td>\n",
       "      <td>168</td>\n",
       "      <td>...</td>\n",
       "      <td>157</td>\n",
       "      <td>101</td>\n",
       "      <td>79</td>\n",
       "      <td>146</td>\n",
       "      <td>170</td>\n",
       "      <td>167</td>\n",
       "      <td>158</td>\n",
       "      <td>154</td>\n",
       "      <td>133</td>\n",
       "      <td>45</td>\n",
       "    </tr>\n",
       "    <tr>\n",
       "      <th>4</th>\n",
       "      <td>173</td>\n",
       "      <td>202</td>\n",
       "      <td>210</td>\n",
       "      <td>194</td>\n",
       "      <td>208</td>\n",
       "      <td>248</td>\n",
       "      <td>243</td>\n",
       "      <td>205</td>\n",
       "      <td>180</td>\n",
       "      <td>142</td>\n",
       "      <td>...</td>\n",
       "      <td>211</td>\n",
       "      <td>230</td>\n",
       "      <td>160</td>\n",
       "      <td>199</td>\n",
       "      <td>206</td>\n",
       "      <td>208</td>\n",
       "      <td>209</td>\n",
       "      <td>205</td>\n",
       "      <td>200</td>\n",
       "      <td>186</td>\n",
       "    </tr>\n",
       "  </tbody>\n",
       "</table>\n",
       "<p>5 rows × 64 columns</p>\n",
       "</div>"
      ],
      "text/plain": [
       "   pixel0000  pixel0001  pixel0002  pixel0003  pixel0004  pixel0005  \\\n",
       "0        172        182        191        183        180        181   \n",
       "1         98        149        170        193        183        162   \n",
       "2        165        164        179        172        152        163   \n",
       "3        109        159        167        166        163        159   \n",
       "4        173        202        210        194        208        248   \n",
       "\n",
       "   pixel0006  pixel0007  pixel0008  pixel0009  ...  pixel0054  pixel0055  \\\n",
       "0        165        164        173        192  ...        171        159   \n",
       "1        164        100        137        175  ...        166        135   \n",
       "2        169        151        168        174  ...        175        169   \n",
       "3        155         96        141        168  ...        157        101   \n",
       "4        243        205        180        142  ...        211        230   \n",
       "\n",
       "   pixel0056  pixel0057  pixel0058  pixel0059  pixel0060  pixel0061  \\\n",
       "0        171        181        201        192        184        183   \n",
       "1         83        159        186        185        192        181   \n",
       "2        152        171        185        189        193        176   \n",
       "3         79        146        170        167        158        154   \n",
       "4        160        199        206        208        209        205   \n",
       "\n",
       "   pixel0062  pixel0063  \n",
       "0        171        157  \n",
       "1        143         58  \n",
       "2        168        151  \n",
       "3        133         45  \n",
       "4        200        186  \n",
       "\n",
       "[5 rows x 64 columns]"
      ]
     },
     "execution_count": 3,
     "metadata": {},
     "output_type": "execute_result"
    }
   ],
   "source": [
    "# data 8x8 L\n",
    "df_hmnist_8_8_L = pd.read_csv('./Data/hmnist_8_8_L.csv/hmnist_8_8_L.csv')\n",
    "df_hmnist_8_8_L_Labels = df_hmnist_8_8_L['label']\n",
    "df_hmnist_8_8_L = df_hmnist_8_8_L.drop('label',axis=1)\n",
    "df_hmnist_8_8_L.head()"
   ]
  },
  {
   "cell_type": "code",
   "execution_count": 4,
   "id": "af1f2a44-3de5-4949-87d6-0caa9a0e1cba",
   "metadata": {},
   "outputs": [
    {
     "data": {
      "text/plain": [
       "(10015, 64)"
      ]
     },
     "execution_count": 4,
     "metadata": {},
     "output_type": "execute_result"
    }
   ],
   "source": [
    "# 10015 rows, 64 columns\n",
    "df_hmnist_8_8_L.shape"
   ]
  },
  {
   "cell_type": "code",
   "execution_count": 5,
   "id": "68736795-4d3f-4673-b130-40b8aa45028d",
   "metadata": {},
   "outputs": [
    {
     "data": {
      "text/plain": [
       "0        2\n",
       "1        2\n",
       "2        2\n",
       "3        2\n",
       "4        2\n",
       "        ..\n",
       "10010    0\n",
       "10011    0\n",
       "10012    0\n",
       "10013    0\n",
       "10014    6\n",
       "Name: label, Length: 10015, dtype: int64"
      ]
     },
     "execution_count": 5,
     "metadata": {},
     "output_type": "execute_result"
    }
   ],
   "source": [
    "df_hmnist_8_8_L_Labels"
   ]
  },
  {
   "cell_type": "code",
   "execution_count": 6,
   "id": "d5b90242-4719-4534-ade6-d2e15a33b50e",
   "metadata": {},
   "outputs": [
    {
     "data": {
      "text/plain": [
       "(10015,)"
      ]
     },
     "execution_count": 6,
     "metadata": {},
     "output_type": "execute_result"
    }
   ],
   "source": [
    "df_hmnist_8_8_L_Labels.shape"
   ]
  },
  {
   "cell_type": "code",
   "execution_count": 7,
   "id": "39837632-9bfa-4663-8974-d73af61000f2",
   "metadata": {},
   "outputs": [
    {
     "data": {
      "text/plain": [
       "Index(['pixel0000', 'pixel0001', 'pixel0002', 'pixel0003', 'pixel0004',\n",
       "       'pixel0005', 'pixel0006', 'pixel0007', 'pixel0008', 'pixel0009',\n",
       "       'pixel0010', 'pixel0011', 'pixel0012', 'pixel0013', 'pixel0014',\n",
       "       'pixel0015', 'pixel0016', 'pixel0017', 'pixel0018', 'pixel0019',\n",
       "       'pixel0020', 'pixel0021', 'pixel0022', 'pixel0023', 'pixel0024',\n",
       "       'pixel0025', 'pixel0026', 'pixel0027', 'pixel0028', 'pixel0029',\n",
       "       'pixel0030', 'pixel0031', 'pixel0032', 'pixel0033', 'pixel0034',\n",
       "       'pixel0035', 'pixel0036', 'pixel0037', 'pixel0038', 'pixel0039',\n",
       "       'pixel0040', 'pixel0041', 'pixel0042', 'pixel0043', 'pixel0044',\n",
       "       'pixel0045', 'pixel0046', 'pixel0047', 'pixel0048', 'pixel0049',\n",
       "       'pixel0050', 'pixel0051', 'pixel0052', 'pixel0053', 'pixel0054',\n",
       "       'pixel0055', 'pixel0056', 'pixel0057', 'pixel0058', 'pixel0059',\n",
       "       'pixel0060', 'pixel0061', 'pixel0062', 'pixel0063'],\n",
       "      dtype='object')"
      ]
     },
     "execution_count": 7,
     "metadata": {},
     "output_type": "execute_result"
    }
   ],
   "source": [
    "df_hmnist_8_8_L.keys()"
   ]
  },
  {
   "cell_type": "code",
   "execution_count": 30,
   "id": "b5fd5979-fddb-4997-bea4-1079d15e7e59",
   "metadata": {},
   "outputs": [
    {
     "data": {
      "text/plain": [
       "array([0, 1, 2, 3, 4, 5, 6], dtype=int64)"
      ]
     },
     "execution_count": 30,
     "metadata": {},
     "output_type": "execute_result"
    }
   ],
   "source": [
    "np.unique(df_hmnist_8_8_L_Labels)"
   ]
  },
  {
   "cell_type": "code",
   "execution_count": 8,
   "id": "b68186d7-2184-4717-b123-2421a4683029",
   "metadata": {},
   "outputs": [],
   "source": [
    "from sklearn.svm import SVC"
   ]
  },
  {
   "cell_type": "code",
   "execution_count": 9,
   "id": "b09de3f0-dcbe-4972-ae69-dc4ede5b2b70",
   "metadata": {
    "tags": []
   },
   "outputs": [],
   "source": [
    "model = SVC()"
   ]
  },
  {
   "cell_type": "code",
   "execution_count": 10,
   "id": "22a16433-a7f5-45be-b339-75b55b47f564",
   "metadata": {},
   "outputs": [],
   "source": [
    "# SVM Analysis Train Test Split\n",
    "X_train, X_test, y_train, y_test = train_test_split(df_hmnist_8_8_L, df_hmnist_8_8_L_Labels, test_size=0.30, random_state=101)"
   ]
  },
  {
   "cell_type": "code",
   "execution_count": 11,
   "id": "d09504c3-8c43-45ef-8801-04a484e9b3ac",
   "metadata": {},
   "outputs": [
    {
     "data": {
      "text/plain": [
       "SVC()"
      ]
     },
     "execution_count": 11,
     "metadata": {},
     "output_type": "execute_result"
    }
   ],
   "source": [
    "model.fit(X_train,y_train)"
   ]
  },
  {
   "cell_type": "code",
   "execution_count": 12,
   "id": "2ee588b8-7e3d-4562-a79c-ddac0a476678",
   "metadata": {},
   "outputs": [],
   "source": [
    "predictions = model.predict(X_test)"
   ]
  },
  {
   "cell_type": "code",
   "execution_count": 13,
   "id": "dd8c5c9f-498f-4934-8f46-1760866322ea",
   "metadata": {},
   "outputs": [],
   "source": [
    "from sklearn.metrics import classification_report,confusion_matrix"
   ]
  },
  {
   "cell_type": "code",
   "execution_count": 14,
   "id": "0e6473c3-af5a-4bc6-84dd-321379e58fab",
   "metadata": {},
   "outputs": [
    {
     "name": "stdout",
     "output_type": "stream",
     "text": [
      "[[   1    1    5    0   79    0    0]\n",
      " [   1    0    6    0  150    0    1]\n",
      " [   1    0   45    0  281    0    5]\n",
      " [   0    0    3    0   28    0    0]\n",
      " [   0    0   14    0 1980    0    9]\n",
      " [   0    0    1    0   37    0    0]\n",
      " [   0    0   14    0  322    0   21]]\n"
     ]
    }
   ],
   "source": [
    "print(confusion_matrix(y_test,predictions))"
   ]
  },
  {
   "cell_type": "code",
   "execution_count": 15,
   "id": "573a0776-5c0d-473f-8064-155d773d7206",
   "metadata": {},
   "outputs": [
    {
     "name": "stdout",
     "output_type": "stream",
     "text": [
      "              precision    recall  f1-score   support\n",
      "\n",
      "           0       0.33      0.01      0.02        86\n",
      "           1       0.00      0.00      0.00       158\n",
      "           2       0.51      0.14      0.21       332\n",
      "           3       0.00      0.00      0.00        31\n",
      "           4       0.69      0.99      0.81      2003\n",
      "           5       0.00      0.00      0.00        38\n",
      "           6       0.58      0.06      0.11       357\n",
      "\n",
      "    accuracy                           0.68      3005\n",
      "   macro avg       0.30      0.17      0.17      3005\n",
      "weighted avg       0.59      0.68      0.58      3005\n",
      "\n"
     ]
    },
    {
     "name": "stderr",
     "output_type": "stream",
     "text": [
      "c:\\users\\andre\\appdata\\local\\programs\\python\\python38\\lib\\site-packages\\sklearn\\metrics\\_classification.py:1308: UndefinedMetricWarning: Precision and F-score are ill-defined and being set to 0.0 in labels with no predicted samples. Use `zero_division` parameter to control this behavior.\n",
      "  _warn_prf(average, modifier, msg_start, len(result))\n",
      "c:\\users\\andre\\appdata\\local\\programs\\python\\python38\\lib\\site-packages\\sklearn\\metrics\\_classification.py:1308: UndefinedMetricWarning: Precision and F-score are ill-defined and being set to 0.0 in labels with no predicted samples. Use `zero_division` parameter to control this behavior.\n",
      "  _warn_prf(average, modifier, msg_start, len(result))\n",
      "c:\\users\\andre\\appdata\\local\\programs\\python\\python38\\lib\\site-packages\\sklearn\\metrics\\_classification.py:1308: UndefinedMetricWarning: Precision and F-score are ill-defined and being set to 0.0 in labels with no predicted samples. Use `zero_division` parameter to control this behavior.\n",
      "  _warn_prf(average, modifier, msg_start, len(result))\n"
     ]
    }
   ],
   "source": [
    "print(classification_report(y_test,predictions))"
   ]
  },
  {
   "cell_type": "code",
   "execution_count": 16,
   "id": "d44bfb04-3cde-444c-8ef9-c600112c2b3f",
   "metadata": {},
   "outputs": [],
   "source": [
    "from sklearn.model_selection import GridSearchCV"
   ]
  },
  {
   "cell_type": "code",
   "execution_count": 17,
   "id": "d560537f-d7d5-4fcd-9137-96c729cda02a",
   "metadata": {},
   "outputs": [
    {
     "name": "stdout",
     "output_type": "stream",
     "text": [
      "Fitting 5 folds for each of 25 candidates, totalling 125 fits\n",
      "[CV 1/5] END ....................C=0.1, gamma=1;, score=0.671 total time=  19.4s\n",
      "[CV 2/5] END ....................C=0.1, gamma=1;, score=0.671 total time=  17.7s\n",
      "[CV 3/5] END ....................C=0.1, gamma=1;, score=0.670 total time=  16.6s\n",
      "[CV 4/5] END ....................C=0.1, gamma=1;, score=0.670 total time=  19.0s\n",
      "[CV 5/5] END ....................C=0.1, gamma=1;, score=0.670 total time=  17.4s\n",
      "[CV 1/5] END ..................C=0.1, gamma=0.1;, score=0.671 total time=  16.9s\n",
      "[CV 2/5] END ..................C=0.1, gamma=0.1;, score=0.671 total time=  17.7s\n",
      "[CV 3/5] END ..................C=0.1, gamma=0.1;, score=0.670 total time=  16.6s\n",
      "[CV 4/5] END ..................C=0.1, gamma=0.1;, score=0.670 total time=  17.2s\n",
      "[CV 5/5] END ..................C=0.1, gamma=0.1;, score=0.670 total time=  24.3s\n",
      "[CV 1/5] END .................C=0.1, gamma=0.01;, score=0.671 total time=  16.8s\n",
      "[CV 2/5] END .................C=0.1, gamma=0.01;, score=0.671 total time=  14.8s\n",
      "[CV 3/5] END .................C=0.1, gamma=0.01;, score=0.670 total time=  15.1s\n",
      "[CV 4/5] END .................C=0.1, gamma=0.01;, score=0.670 total time=  16.1s\n",
      "[CV 5/5] END .................C=0.1, gamma=0.01;, score=0.670 total time=  13.5s\n",
      "[CV 1/5] END ................C=0.1, gamma=0.001;, score=0.671 total time=   9.6s\n",
      "[CV 2/5] END ................C=0.1, gamma=0.001;, score=0.671 total time=   9.8s\n",
      "[CV 3/5] END ................C=0.1, gamma=0.001;, score=0.670 total time=   9.3s\n",
      "[CV 4/5] END ................C=0.1, gamma=0.001;, score=0.670 total time=  10.2s\n",
      "[CV 5/5] END ................C=0.1, gamma=0.001;, score=0.670 total time=   8.9s\n",
      "[CV 1/5] END ...............C=0.1, gamma=0.0001;, score=0.671 total time=   5.7s\n",
      "[CV 2/5] END ...............C=0.1, gamma=0.0001;, score=0.671 total time=   5.5s\n",
      "[CV 3/5] END ...............C=0.1, gamma=0.0001;, score=0.670 total time=   5.3s\n",
      "[CV 4/5] END ...............C=0.1, gamma=0.0001;, score=0.670 total time=   5.8s\n",
      "[CV 5/5] END ...............C=0.1, gamma=0.0001;, score=0.670 total time=   5.5s\n",
      "[CV 1/5] END ......................C=1, gamma=1;, score=0.671 total time=  17.7s\n",
      "[CV 2/5] END ......................C=1, gamma=1;, score=0.671 total time=  16.7s\n",
      "[CV 3/5] END ......................C=1, gamma=1;, score=0.670 total time=  14.8s\n",
      "[CV 4/5] END ......................C=1, gamma=1;, score=0.670 total time=  15.8s\n",
      "[CV 5/5] END ......................C=1, gamma=1;, score=0.670 total time=  18.7s\n",
      "[CV 1/5] END ....................C=1, gamma=0.1;, score=0.671 total time=  17.5s\n",
      "[CV 2/5] END ....................C=1, gamma=0.1;, score=0.671 total time=  17.0s\n",
      "[CV 3/5] END ....................C=1, gamma=0.1;, score=0.670 total time=  16.2s\n",
      "[CV 4/5] END ....................C=1, gamma=0.1;, score=0.670 total time=  15.6s\n",
      "[CV 5/5] END ....................C=1, gamma=0.1;, score=0.670 total time=  14.7s\n",
      "[CV 1/5] END ...................C=1, gamma=0.01;, score=0.671 total time=  12.5s\n",
      "[CV 2/5] END ...................C=1, gamma=0.01;, score=0.671 total time=  12.3s\n",
      "[CV 3/5] END ...................C=1, gamma=0.01;, score=0.670 total time=  14.1s\n",
      "[CV 4/5] END ...................C=1, gamma=0.01;, score=0.670 total time=  14.0s\n",
      "[CV 5/5] END ...................C=1, gamma=0.01;, score=0.670 total time=  12.2s\n",
      "[CV 1/5] END ..................C=1, gamma=0.001;, score=0.671 total time=   8.4s\n",
      "[CV 2/5] END ..................C=1, gamma=0.001;, score=0.671 total time=   8.3s\n",
      "[CV 3/5] END ..................C=1, gamma=0.001;, score=0.670 total time=   8.5s\n",
      "[CV 4/5] END ..................C=1, gamma=0.001;, score=0.670 total time=   8.9s\n",
      "[CV 5/5] END ..................C=1, gamma=0.001;, score=0.670 total time=   8.5s\n",
      "[CV 1/5] END .................C=1, gamma=0.0001;, score=0.685 total time=   6.2s\n",
      "[CV 2/5] END .................C=1, gamma=0.0001;, score=0.688 total time=   5.3s\n",
      "[CV 3/5] END .................C=1, gamma=0.0001;, score=0.684 total time=   5.2s\n",
      "[CV 4/5] END .................C=1, gamma=0.0001;, score=0.688 total time=   5.1s\n",
      "[CV 5/5] END .................C=1, gamma=0.0001;, score=0.680 total time=   5.7s\n",
      "[CV 1/5] END .....................C=10, gamma=1;, score=0.671 total time=  13.4s\n",
      "[CV 2/5] END .....................C=10, gamma=1;, score=0.671 total time=  14.2s\n",
      "[CV 3/5] END .....................C=10, gamma=1;, score=0.670 total time=  14.3s\n",
      "[CV 4/5] END .....................C=10, gamma=1;, score=0.670 total time=  14.1s\n",
      "[CV 5/5] END .....................C=10, gamma=1;, score=0.670 total time=  13.9s\n",
      "[CV 1/5] END ...................C=10, gamma=0.1;, score=0.671 total time=  14.3s\n",
      "[CV 2/5] END ...................C=10, gamma=0.1;, score=0.671 total time=  13.4s\n",
      "[CV 3/5] END ...................C=10, gamma=0.1;, score=0.670 total time=  15.0s\n",
      "[CV 4/5] END ...................C=10, gamma=0.1;, score=0.670 total time=  13.7s\n",
      "[CV 5/5] END ...................C=10, gamma=0.1;, score=0.670 total time=  15.2s\n",
      "[CV 1/5] END ..................C=10, gamma=0.01;, score=0.671 total time=  13.2s\n",
      "[CV 2/5] END ..................C=10, gamma=0.01;, score=0.671 total time=  12.4s\n",
      "[CV 3/5] END ..................C=10, gamma=0.01;, score=0.670 total time=  14.1s\n",
      "[CV 4/5] END ..................C=10, gamma=0.01;, score=0.670 total time=  12.7s\n",
      "[CV 5/5] END ..................C=10, gamma=0.01;, score=0.670 total time=  14.3s\n",
      "[CV 1/5] END .................C=10, gamma=0.001;, score=0.671 total time=   8.6s\n",
      "[CV 2/5] END .................C=10, gamma=0.001;, score=0.671 total time=   8.7s\n",
      "[CV 3/5] END .................C=10, gamma=0.001;, score=0.670 total time=   8.7s\n",
      "[CV 4/5] END .................C=10, gamma=0.001;, score=0.671 total time=  10.7s\n",
      "[CV 5/5] END .................C=10, gamma=0.001;, score=0.670 total time=   8.5s\n",
      "[CV 1/5] END ................C=10, gamma=0.0001;, score=0.674 total time=   6.5s\n",
      "[CV 2/5] END ................C=10, gamma=0.0001;, score=0.663 total time=   5.4s\n",
      "[CV 3/5] END ................C=10, gamma=0.0001;, score=0.672 total time=   5.5s\n",
      "[CV 4/5] END ................C=10, gamma=0.0001;, score=0.688 total time=   5.6s\n",
      "[CV 5/5] END ................C=10, gamma=0.0001;, score=0.674 total time=   5.5s\n",
      "[CV 1/5] END ....................C=100, gamma=1;, score=0.671 total time=  13.3s\n",
      "[CV 2/5] END ....................C=100, gamma=1;, score=0.671 total time=  15.0s\n",
      "[CV 3/5] END ....................C=100, gamma=1;, score=0.670 total time=  14.4s\n",
      "[CV 4/5] END ....................C=100, gamma=1;, score=0.670 total time=  13.6s\n",
      "[CV 5/5] END ....................C=100, gamma=1;, score=0.670 total time=  13.3s\n",
      "[CV 1/5] END ..................C=100, gamma=0.1;, score=0.671 total time=  19.0s\n",
      "[CV 2/5] END ..................C=100, gamma=0.1;, score=0.671 total time=  14.8s\n",
      "[CV 3/5] END ..................C=100, gamma=0.1;, score=0.670 total time=  13.8s\n",
      "[CV 4/5] END ..................C=100, gamma=0.1;, score=0.670 total time=  13.7s\n",
      "[CV 5/5] END ..................C=100, gamma=0.1;, score=0.670 total time=  13.8s\n",
      "[CV 1/5] END .................C=100, gamma=0.01;, score=0.671 total time=  15.2s\n",
      "[CV 2/5] END .................C=100, gamma=0.01;, score=0.671 total time=  12.8s\n",
      "[CV 3/5] END .................C=100, gamma=0.01;, score=0.670 total time=  12.8s\n",
      "[CV 4/5] END .................C=100, gamma=0.01;, score=0.670 total time=  13.6s\n",
      "[CV 5/5] END .................C=100, gamma=0.01;, score=0.670 total time=  14.4s\n",
      "[CV 1/5] END ................C=100, gamma=0.001;, score=0.671 total time=  11.5s\n",
      "[CV 2/5] END ................C=100, gamma=0.001;, score=0.671 total time=   8.8s\n",
      "[CV 3/5] END ................C=100, gamma=0.001;, score=0.670 total time=   8.7s\n",
      "[CV 4/5] END ................C=100, gamma=0.001;, score=0.671 total time=   9.0s\n",
      "[CV 5/5] END ................C=100, gamma=0.001;, score=0.670 total time=   9.1s\n",
      "[CV 1/5] END ...............C=100, gamma=0.0001;, score=0.664 total time=   5.5s\n",
      "[CV 2/5] END ...............C=100, gamma=0.0001;, score=0.658 total time=   6.6s\n",
      "[CV 3/5] END ...............C=100, gamma=0.0001;, score=0.673 total time=   5.7s\n",
      "[CV 4/5] END ...............C=100, gamma=0.0001;, score=0.683 total time=   7.1s\n",
      "[CV 5/5] END ...............C=100, gamma=0.0001;, score=0.670 total time=   5.8s\n",
      "[CV 1/5] END ...................C=1000, gamma=1;, score=0.671 total time=  15.3s\n",
      "[CV 2/5] END ...................C=1000, gamma=1;, score=0.671 total time=  29.9s\n",
      "[CV 3/5] END ...................C=1000, gamma=1;, score=0.670 total time=  25.1s\n",
      "[CV 4/5] END ...................C=1000, gamma=1;, score=0.670 total time=  16.7s\n",
      "[CV 5/5] END ...................C=1000, gamma=1;, score=0.670 total time=  17.8s\n",
      "[CV 1/5] END .................C=1000, gamma=0.1;, score=0.671 total time=  17.2s\n",
      "[CV 2/5] END .................C=1000, gamma=0.1;, score=0.671 total time=  18.7s\n",
      "[CV 3/5] END .................C=1000, gamma=0.1;, score=0.670 total time=  17.0s\n",
      "[CV 4/5] END .................C=1000, gamma=0.1;, score=0.670 total time=  16.5s\n",
      "[CV 5/5] END .................C=1000, gamma=0.1;, score=0.670 total time=  17.9s\n",
      "[CV 1/5] END ................C=1000, gamma=0.01;, score=0.671 total time=  14.8s\n",
      "[CV 2/5] END ................C=1000, gamma=0.01;, score=0.671 total time=  15.8s\n",
      "[CV 3/5] END ................C=1000, gamma=0.01;, score=0.670 total time=  13.8s\n",
      "[CV 4/5] END ................C=1000, gamma=0.01;, score=0.670 total time=  13.4s\n",
      "[CV 5/5] END ................C=1000, gamma=0.01;, score=0.670 total time=  15.8s\n",
      "[CV 1/5] END ...............C=1000, gamma=0.001;, score=0.671 total time=   9.7s\n",
      "[CV 2/5] END ...............C=1000, gamma=0.001;, score=0.671 total time=  10.3s\n",
      "[CV 3/5] END ...............C=1000, gamma=0.001;, score=0.670 total time=   9.2s\n",
      "[CV 4/5] END ...............C=1000, gamma=0.001;, score=0.671 total time=   9.5s\n",
      "[CV 5/5] END ...............C=1000, gamma=0.001;, score=0.670 total time=   9.2s\n",
      "[CV 1/5] END ..............C=1000, gamma=0.0001;, score=0.664 total time=   7.1s\n",
      "[CV 2/5] END ..............C=1000, gamma=0.0001;, score=0.658 total time=   6.1s\n",
      "[CV 3/5] END ..............C=1000, gamma=0.0001;, score=0.673 total time=   6.4s\n",
      "[CV 4/5] END ..............C=1000, gamma=0.0001;, score=0.683 total time=   6.9s\n",
      "[CV 5/5] END ..............C=1000, gamma=0.0001;, score=0.670 total time=   6.3s\n"
     ]
    },
    {
     "data": {
      "text/plain": [
       "GridSearchCV(estimator=SVC(),\n",
       "             param_grid={'C': [0.1, 1, 10, 100, 1000],\n",
       "                         'gamma': [1, 0.1, 0.01, 0.001, 0.0001]},\n",
       "             verbose=3)"
      ]
     },
     "execution_count": 17,
     "metadata": {},
     "output_type": "execute_result"
    }
   ],
   "source": [
    "# Finding the optimal parameters to perform SVM analysis\n",
    "param_grid = {'C':[0.1,1,10,100,1000],'gamma':[1,0.1,0.01,0.001,0.0001]}\n",
    "grid = GridSearchCV(SVC(),param_grid,verbose=3)\n",
    "grid.fit(X_train,y_train)"
   ]
  },
  {
   "cell_type": "code",
   "execution_count": 18,
   "id": "e8d24cbe-ef19-483b-b808-8072dfa6f746",
   "metadata": {},
   "outputs": [
    {
     "data": {
      "text/plain": [
       "{'C': 1, 'gamma': 0.0001}"
      ]
     },
     "execution_count": 18,
     "metadata": {},
     "output_type": "execute_result"
    }
   ],
   "source": [
    "grid.best_params_"
   ]
  },
  {
   "cell_type": "code",
   "execution_count": 19,
   "id": "27c37545-8534-48ec-a786-b4e22920e2cc",
   "metadata": {},
   "outputs": [
    {
     "data": {
      "text/plain": [
       "SVC(C=1, gamma=0.0001)"
      ]
     },
     "execution_count": 19,
     "metadata": {},
     "output_type": "execute_result"
    }
   ],
   "source": [
    "grid.best_estimator_"
   ]
  },
  {
   "cell_type": "code",
   "execution_count": 20,
   "id": "55579b8c-2a91-412a-9142-f49cbe0664f7",
   "metadata": {},
   "outputs": [],
   "source": [
    "grid_predictions = grid.predict(X_test)"
   ]
  },
  {
   "cell_type": "code",
   "execution_count": 21,
   "id": "a7ce9871-460a-42f3-b0c1-204f54e03867",
   "metadata": {},
   "outputs": [
    {
     "name": "stdout",
     "output_type": "stream",
     "text": [
      "[[   3    6   11    0   66    0    0]\n",
      " [   4   13   13    0  127    0    1]\n",
      " [   2    2   61    0  264    0    3]\n",
      " [   0    2    2    0   27    0    0]\n",
      " [   1    0   18    0 1981    0    3]\n",
      " [   0    1    1    0   36    0    0]\n",
      " [   0    0   17    0  337    0    3]]\n",
      "\n",
      "\n",
      "              precision    recall  f1-score   support\n",
      "\n",
      "           0       0.30      0.03      0.06        86\n",
      "           1       0.54      0.08      0.14       158\n",
      "           2       0.50      0.18      0.27       332\n",
      "           3       0.00      0.00      0.00        31\n",
      "           4       0.70      0.99      0.82      2003\n",
      "           5       0.00      0.00      0.00        38\n",
      "           6       0.30      0.01      0.02       357\n",
      "\n",
      "    accuracy                           0.69      3005\n",
      "   macro avg       0.33      0.19      0.19      3005\n",
      "weighted avg       0.59      0.69      0.59      3005\n",
      "\n"
     ]
    },
    {
     "name": "stderr",
     "output_type": "stream",
     "text": [
      "c:\\users\\andre\\appdata\\local\\programs\\python\\python38\\lib\\site-packages\\sklearn\\metrics\\_classification.py:1308: UndefinedMetricWarning: Precision and F-score are ill-defined and being set to 0.0 in labels with no predicted samples. Use `zero_division` parameter to control this behavior.\n",
      "  _warn_prf(average, modifier, msg_start, len(result))\n",
      "c:\\users\\andre\\appdata\\local\\programs\\python\\python38\\lib\\site-packages\\sklearn\\metrics\\_classification.py:1308: UndefinedMetricWarning: Precision and F-score are ill-defined and being set to 0.0 in labels with no predicted samples. Use `zero_division` parameter to control this behavior.\n",
      "  _warn_prf(average, modifier, msg_start, len(result))\n",
      "c:\\users\\andre\\appdata\\local\\programs\\python\\python38\\lib\\site-packages\\sklearn\\metrics\\_classification.py:1308: UndefinedMetricWarning: Precision and F-score are ill-defined and being set to 0.0 in labels with no predicted samples. Use `zero_division` parameter to control this behavior.\n",
      "  _warn_prf(average, modifier, msg_start, len(result))\n"
     ]
    }
   ],
   "source": [
    "print(confusion_matrix(y_test,grid_predictions))\n",
    "print('\\n')\n",
    "print(classification_report(y_test,grid_predictions))"
   ]
  },
  {
   "cell_type": "code",
   "execution_count": 8,
   "id": "c43f64fa-7615-4f1a-8d6f-31e6a498c1ba",
   "metadata": {},
   "outputs": [],
   "source": [
    "# TensorFlow - Neural Networks/ Simple Test. Not actual code to be used\n",
    "import tensorflow as tf\n",
    "from tensorflow.keras.models import Sequential\n",
    "from tensorflow.keras.layers import Dense\n",
    "from tensorflow.keras.layers import Flatten"
   ]
  },
  {
   "cell_type": "code",
   "execution_count": 9,
   "id": "3d82fecb-d7ca-41bc-84cf-54dedaa95d8a",
   "metadata": {},
   "outputs": [
    {
     "name": "stdout",
     "output_type": "stream",
     "text": [
      "2.6.1\n"
     ]
    }
   ],
   "source": [
    "print(tf.__version__)"
   ]
  },
  {
   "cell_type": "code",
   "execution_count": 10,
   "id": "c0d5aae8-d5d4-4bef-a1af-79f78b5e70be",
   "metadata": {},
   "outputs": [],
   "source": [
    "# Example\n",
    "from sklearn import datasets, svm, metrics\n",
    "digits = datasets.load_digits()"
   ]
  },
  {
   "cell_type": "code",
   "execution_count": 25,
   "id": "74e9c9e6-ae06-4105-bbf6-0ef5714caa87",
   "metadata": {},
   "outputs": [
    {
     "data": {
      "text/plain": [
       "array([ 0.,  0.,  5., 13.,  9.,  1.,  0.,  0.,  0.,  0., 13., 15., 10.,\n",
       "       15.,  5.,  0.,  0.,  3., 15.,  2.,  0., 11.,  8.,  0.,  0.,  4.,\n",
       "       12.,  0.,  0.,  8.,  8.,  0.,  0.,  5.,  8.,  0.,  0.,  9.,  8.,\n",
       "        0.,  0.,  4., 11.,  0.,  1., 12.,  7.,  0.,  0.,  2., 14.,  5.,\n",
       "       10., 12.,  0.,  0.,  0.,  0.,  6., 13., 10.,  0.,  0.,  0.])"
      ]
     },
     "execution_count": 25,
     "metadata": {},
     "output_type": "execute_result"
    }
   ],
   "source": [
    "digits.data[0]"
   ]
  },
  {
   "cell_type": "code",
   "execution_count": 19,
   "id": "6d5733b6-bfcf-464c-a0e9-caacc534ecfb",
   "metadata": {},
   "outputs": [],
   "source": [
    "from sklearn.preprocessing import MinMaxScaler\n",
    "scaler = MinMaxScaler()\n",
    "scaler.fit(df_hmnist_8_8_L)\n",
    "df_hmnist_8_8_L = scaler.transform(df_hmnist_8_8_L)"
   ]
  },
  {
   "cell_type": "code",
   "execution_count": 20,
   "id": "836d5b1e-3f8f-4461-86df-56b269016ccf",
   "metadata": {},
   "outputs": [],
   "source": [
    "# Grayscale 8x8\n",
    "X_train, X_test, y_train, y_test = train_test_split(df_hmnist_8_8_L, df_hmnist_8_8_L_Labels, test_size=0.30, random_state=101)"
   ]
  },
  {
   "cell_type": "code",
   "execution_count": 22,
   "id": "5bd55004-cd71-435c-a823-1f16cbaef6fc",
   "metadata": {},
   "outputs": [
    {
     "data": {
      "text/plain": [
       "array([[0.73306773, 0.73913043, 0.73858921, 0.69196429, 0.71186441,\n",
       "        0.68897638, 0.71314741, 0.74380165, 0.67843137, 0.75609756,\n",
       "        0.68534483, 0.61206897, 0.63636364, 0.72173913, 0.73622047,\n",
       "        0.7195122 , 0.62598425, 0.66942149, 0.53968254, 0.45991561,\n",
       "        0.56734694, 0.752     , 0.76890756, 0.7250996 , 0.65863454,\n",
       "        0.56626506, 0.3902439 , 0.39366516, 0.59192825, 0.71259843,\n",
       "        0.73839662, 0.70866142, 0.59437751, 0.59493671, 0.43027888,\n",
       "        0.43421053, 0.68325792, 0.73493976, 0.69456067, 0.68951613,\n",
       "        0.56910569, 0.57709251, 0.62301587, 0.51004016, 0.59109312,\n",
       "        0.75409836, 0.67355372, 0.64489796, 0.65098039, 0.57258065,\n",
       "        0.60655738, 0.63445378, 0.57333333, 0.62719298, 0.71836735,\n",
       "        0.62      , 0.668     , 0.64031621, 0.58      , 0.67206478,\n",
       "        0.66532258, 0.60474308, 0.592     , 0.63492063],\n",
       "       [0.68525896, 0.6798419 , 0.66804979, 0.66964286, 0.71186441,\n",
       "        0.72047244, 0.7250996 , 0.75206612, 0.66666667, 0.65853659,\n",
       "        0.56896552, 0.56465517, 0.63636364, 0.7       , 0.72047244,\n",
       "        0.72764228, 0.64566929, 0.55371901, 0.43650794, 0.38396624,\n",
       "        0.4122449 , 0.592     , 0.74369748, 0.71713147, 0.64658635,\n",
       "        0.48995984, 0.34146341, 0.33031674, 0.32735426, 0.43700787,\n",
       "        0.65822785, 0.70866142, 0.65060241, 0.54852321, 0.38645418,\n",
       "        0.34210526, 0.33484163, 0.34136546, 0.57740586, 0.69354839,\n",
       "        0.66260163, 0.60792952, 0.56349206, 0.42168675, 0.29149798,\n",
       "        0.29098361, 0.52892562, 0.69795918, 0.66666667, 0.68951613,\n",
       "        0.66393443, 0.6092437 , 0.45333333, 0.44736842, 0.64489796,\n",
       "        0.7       , 0.668     , 0.67193676, 0.68      , 0.68825911,\n",
       "        0.67741935, 0.67588933, 0.692     , 0.69444444],\n",
       "       [0.74900398, 0.72727273, 0.60995851, 0.47321429, 0.44491525,\n",
       "        0.5       , 0.6374502 , 0.70247934, 0.71764706, 0.6504065 ,\n",
       "        0.49568966, 0.36637931, 0.38429752, 0.45652174, 0.62204724,\n",
       "        0.70325203, 0.69291339, 0.57438017, 0.43650794, 0.42194093,\n",
       "        0.39183673, 0.416     , 0.65546218, 0.71713147, 0.66666667,\n",
       "        0.51807229, 0.3495935 , 0.43438914, 0.38116592, 0.4488189 ,\n",
       "        0.67088608, 0.70866142, 0.62248996, 0.45991561, 0.33864542,\n",
       "        0.37280702, 0.38461538, 0.53413655, 0.71548117, 0.70967742,\n",
       "        0.58130081, 0.37885463, 0.39285714, 0.36947791, 0.4534413 ,\n",
       "        0.65163934, 0.7107438 , 0.72244898, 0.54509804, 0.52016129,\n",
       "        0.50819672, 0.53361345, 0.61777778, 0.71052632, 0.73061224,\n",
       "        0.716     , 0.568     , 0.56521739, 0.62      , 0.70040486,\n",
       "        0.72983871, 0.72727273, 0.704     , 0.69444444],\n",
       "       [0.70119522, 0.72727273, 0.75518672, 0.75      , 0.74576271,\n",
       "        0.7480315 , 0.72908367, 0.69008264, 0.71764706, 0.76829268,\n",
       "        0.76724138, 0.7887931 , 0.82231405, 0.8173913 , 0.7480315 ,\n",
       "        0.69512195, 0.72440945, 0.75619835, 0.79365079, 0.8185654 ,\n",
       "        0.82857143, 0.772     , 0.77310924, 0.69322709, 0.75903614,\n",
       "        0.78714859, 0.75203252, 0.59728507, 0.64573991, 0.78740157,\n",
       "        0.75527426, 0.68110236, 0.76305221, 0.78059072, 0.76095618,\n",
       "        0.59649123, 0.56108597, 0.80321285, 0.79916318, 0.70564516,\n",
       "        0.74390244, 0.73568282, 0.79761905, 0.82730924, 0.79757085,\n",
       "        0.79508197, 0.73553719, 0.71020408, 0.72156863, 0.77016129,\n",
       "        0.75819672, 0.79411765, 0.78666667, 0.76754386, 0.73061224,\n",
       "        0.672     , 0.708     , 0.73913043, 0.772     , 0.80566802,\n",
       "        0.79435484, 0.76679842, 0.7       , 0.6468254 ],\n",
       "       [0.7689243 , 0.77470356, 0.77178423, 0.77232143, 0.81779661,\n",
       "        0.77952756, 0.75697211, 0.79338843, 0.76862745, 0.7398374 ,\n",
       "        0.59051724, 0.64655172, 0.78512397, 0.80869565, 0.70866142,\n",
       "        0.7601626 , 0.78346457, 0.72727273, 0.47619048, 0.5443038 ,\n",
       "        0.70204082, 0.768     , 0.71428571, 0.69721116, 0.81927711,\n",
       "        0.76706827, 0.57317073, 0.59728507, 0.79820628, 0.73228346,\n",
       "        0.73839662, 0.7992126 , 0.81124498, 0.80590717, 0.66135458,\n",
       "        0.6622807 , 0.78280543, 0.69477912, 0.73640167, 0.8266129 ,\n",
       "        0.80081301, 0.7753304 , 0.67857143, 0.59036145, 0.58704453,\n",
       "        0.6557377 , 0.66528926, 0.8122449 , 0.79607843, 0.81451613,\n",
       "        0.66803279, 0.62605042, 0.68      , 0.77192982, 0.76734694,\n",
       "        0.764     , 0.768     , 0.74703557, 0.776     , 0.75708502,\n",
       "        0.81048387, 0.80632411, 0.788     , 0.78174603],\n",
       "       [0.72111554, 0.66403162, 0.56846473, 0.5625    , 0.65677966,\n",
       "        0.67716535, 0.69322709, 0.71900826, 0.72156863, 0.64634146,\n",
       "        0.42241379, 0.40086207, 0.56198347, 0.69565217, 0.68897638,\n",
       "        0.69512195, 0.68503937, 0.6446281 , 0.47222222, 0.43881857,\n",
       "        0.51020408, 0.636     , 0.72268908, 0.68525896, 0.71485944,\n",
       "        0.68674699, 0.59349593, 0.40271493, 0.42600897, 0.53543307,\n",
       "        0.69620253, 0.67716535, 0.7188755 , 0.68776371, 0.51394422,\n",
       "        0.34210526, 0.33936652, 0.51405622, 0.67782427, 0.65725806,\n",
       "        0.65853659, 0.59471366, 0.48412698, 0.3935743 , 0.36437247,\n",
       "        0.59836066, 0.6322314 , 0.62040816, 0.64705882, 0.60887097,\n",
       "        0.60655738, 0.43277311, 0.30222222, 0.59210526, 0.68163265,\n",
       "        0.644     , 0.624     , 0.59683794, 0.632     , 0.48582996,\n",
       "        0.46774194, 0.6284585 , 0.672     , 0.63888889],\n",
       "       [0.43426295, 0.58498024, 0.62655602, 0.57142857, 0.55084746,\n",
       "        0.59448819, 0.56573705, 0.5661157 , 0.49019608, 0.6300813 ,\n",
       "        0.62068966, 0.58189655, 0.62396694, 0.66086957, 0.61023622,\n",
       "        0.60569106, 0.59055118, 0.59917355, 0.59126984, 0.44303797,\n",
       "        0.48571429, 0.656     , 0.68487395, 0.63346614, 0.63052209,\n",
       "        0.61044177, 0.46341463, 0.26696833, 0.28699552, 0.54724409,\n",
       "        0.66244726, 0.63385827, 0.62248996, 0.66244726, 0.49800797,\n",
       "        0.33333333, 0.26244344, 0.4939759 , 0.69037657, 0.65322581,\n",
       "        0.58943089, 0.53303965, 0.56349206, 0.32931727, 0.25101215,\n",
       "        0.5942623 , 0.66942149, 0.66530612, 0.50196078, 0.64112903,\n",
       "        0.61065574, 0.54201681, 0.52888889, 0.63596491, 0.67346939,\n",
       "        0.636     , 0.468     , 0.59288538, 0.636     , 0.61538462,\n",
       "        0.62903226, 0.64426877, 0.636     , 0.55952381],\n",
       "       [0.68525896, 0.70750988, 0.70954357, 0.69642857, 0.70762712,\n",
       "        0.68110236, 0.66932271, 0.67768595, 0.69803922, 0.75609756,\n",
       "        0.72844828, 0.73706897, 0.7231405 , 0.72173913, 0.68503937,\n",
       "        0.68699187, 0.70472441, 0.74793388, 0.73015873, 0.70464135,\n",
       "        0.71428571, 0.724     , 0.73109244, 0.68924303, 0.73092369,\n",
       "        0.74297189, 0.63821138, 0.22171946, 0.52017937, 0.73228346,\n",
       "        0.72151899, 0.7007874 , 0.7188755 , 0.74261603, 0.6812749 ,\n",
       "        0.57017544, 0.71493213, 0.72690763, 0.74895397, 0.72177419,\n",
       "        0.69918699, 0.68281938, 0.72222222, 0.75100402, 0.72874494,\n",
       "        0.74180328, 0.69008264, 0.68571429, 0.65098039, 0.70967742,\n",
       "        0.67622951, 0.69747899, 0.69333333, 0.70175439, 0.72244898,\n",
       "        0.688     , 0.64      , 0.65217391, 0.676     , 0.70445344,\n",
       "        0.71370968, 0.71541502, 0.704     , 0.67460317],\n",
       "       [0.45418327, 0.5256917 , 0.56016598, 0.57142857, 0.61864407,\n",
       "        0.61811024, 0.56972112, 0.52479339, 0.48235294, 0.55284553,\n",
       "        0.53017241, 0.50431034, 0.54132231, 0.56086957, 0.54724409,\n",
       "        0.54878049, 0.45275591, 0.46694215, 0.49603175, 0.49367089,\n",
       "        0.46938776, 0.424     , 0.47058824, 0.49800797, 0.41365462,\n",
       "        0.437751  , 0.44308943, 0.51131222, 0.51569507, 0.38582677,\n",
       "        0.39662447, 0.43307087, 0.42971888, 0.40506329, 0.4501992 ,\n",
       "        0.50438596, 0.49321267, 0.42570281, 0.43514644, 0.47983871,\n",
       "        0.50406504, 0.44933921, 0.51587302, 0.53413655, 0.55465587,\n",
       "        0.55737705, 0.50413223, 0.52244898, 0.52156863, 0.63709677,\n",
       "        0.61065574, 0.61344538, 0.64444444, 0.63596491, 0.60816327,\n",
       "        0.512     , 0.52      , 0.59288538, 0.64      , 0.66801619,\n",
       "        0.65322581, 0.63636364, 0.604     , 0.53571429],\n",
       "       [0.67330677, 0.6798419 , 0.66390041, 0.66071429, 0.67372881,\n",
       "        0.63385827, 0.67729084, 0.7107438 , 0.67058824, 0.69918699,\n",
       "        0.66810345, 0.56896552, 0.49173554, 0.59130435, 0.68110236,\n",
       "        0.67886179, 0.64566929, 0.67355372, 0.68650794, 0.4978903 ,\n",
       "        0.36326531, 0.508     , 0.69327731, 0.66932271, 0.64658635,\n",
       "        0.65060241, 0.66260163, 0.5520362 , 0.40807175, 0.54330709,\n",
       "        0.68776371, 0.67322835, 0.65863454, 0.62869198, 0.65737052,\n",
       "        0.59649123, 0.52941176, 0.65060241, 0.72384937, 0.67741935,\n",
       "        0.67073171, 0.58590308, 0.62301587, 0.66666667, 0.68016194,\n",
       "        0.72131148, 0.68595041, 0.67755102, 0.62745098, 0.66532258,\n",
       "        0.5942623 , 0.68907563, 0.68444444, 0.70175439, 0.70204082,\n",
       "        0.672     , 0.628     , 0.63241107, 0.616     , 0.69230769,\n",
       "        0.7016129 , 0.68774704, 0.68      , 0.67857143]])"
      ]
     },
     "execution_count": 22,
     "metadata": {},
     "output_type": "execute_result"
    }
   ],
   "source": [
    "X_train[0:10]"
   ]
  },
  {
   "cell_type": "code",
   "execution_count": 21,
   "id": "eb437237-faf8-4441-80c7-f3039226aa5f",
   "metadata": {},
   "outputs": [],
   "source": [
    "from imblearn.over_sampling import SMOTE\n",
    "smt = SMOTE()"
   ]
  },
  {
   "cell_type": "code",
   "execution_count": 4,
   "id": "d55fb739-cbdf-4c47-98db-be128348ee17",
   "metadata": {},
   "outputs": [
    {
     "data": {
      "text/plain": [
       "0    2\n",
       "1    2\n",
       "2    2\n",
       "3    2\n",
       "4    2\n",
       "Name: label, dtype: int64"
      ]
     },
     "execution_count": 4,
     "metadata": {},
     "output_type": "execute_result"
    }
   ],
   "source": [
    "df_hmnist_8_8_L_Labels.head()"
   ]
  },
  {
   "cell_type": "code",
   "execution_count": 5,
   "id": "0d9ecaba-8b40-4f77-a8ea-c3133b10ceb2",
   "metadata": {},
   "outputs": [
    {
     "name": "stderr",
     "output_type": "stream",
     "text": [
      "c:\\users\\andre\\appdata\\local\\programs\\python\\python38\\lib\\site-packages\\seaborn\\_decorators.py:36: FutureWarning: Pass the following variable as a keyword arg: x. From version 0.12, the only valid positional argument will be `data`, and passing other arguments without an explicit keyword will result in an error or misinterpretation.\n",
      "  warnings.warn(\n"
     ]
    },
    {
     "data": {
      "text/plain": [
       "<AxesSubplot:xlabel='label', ylabel='count'>"
      ]
     },
     "execution_count": 5,
     "metadata": {},
     "output_type": "execute_result"
    },
    {
     "data": {
      "image/png": "[encoded data removed]",
      "text/plain": [
       "<Figure size 432x288 with 1 Axes>"
      ]
     },
     "metadata": {
      "needs_background": "light"
     },
     "output_type": "display_data"
    }
   ],
   "source": [
    "plt.figure(figsize=(6,4))\n",
    "sns.countplot(df_hmnist_8_8_L_Labels,x=\"label\")"
   ]
  },
  {
   "cell_type": "code",
   "execution_count": 23,
   "id": "2541a498-c056-4179-bffc-bd67730ac277",
   "metadata": {},
   "outputs": [],
   "source": [
    "X_train,y_train = smt.fit_resample(X_train,y_train)"
   ]
  },
  {
   "cell_type": "code",
   "execution_count": 24,
   "id": "19b3220c-3682-4181-9c6a-531f55f2808e",
   "metadata": {},
   "outputs": [],
   "source": [
    "X_test,y_test = smt.fit_resample(X_test,y_test)"
   ]
  },
  {
   "cell_type": "code",
   "execution_count": 25,
   "id": "5998380b-c158-471e-b3ae-e47c7861b5d5",
   "metadata": {},
   "outputs": [
    {
     "name": "stderr",
     "output_type": "stream",
     "text": [
      "c:\\users\\andre\\appdata\\local\\programs\\python\\python38\\lib\\site-packages\\seaborn\\_decorators.py:36: FutureWarning: Pass the following variable as a keyword arg: x. From version 0.12, the only valid positional argument will be `data`, and passing other arguments without an explicit keyword will result in an error or misinterpretation.\n",
      "  warnings.warn(\n"
     ]
    },
    {
     "data": {
      "text/plain": [
       "<AxesSubplot:ylabel='count'>"
      ]
     },
     "execution_count": 25,
     "metadata": {},
     "output_type": "execute_result"
    },
    {
     "data": {
      "image/png": "[encoded data removed]",
      "text/plain": [
       "<Figure size 432x288 with 1 Axes>"
      ]
     },
     "metadata": {
      "needs_background": "light"
     },
     "output_type": "display_data"
    }
   ],
   "source": [
    "plt.figure(figsize=(6,4))\n",
    "sns.countplot(y_train)"
   ]
  },
  {
   "cell_type": "code",
   "execution_count": 26,
   "id": "b79209bd-9e01-4a37-8986-a959b4b6d94d",
   "metadata": {},
   "outputs": [],
   "source": [
    "model = Sequential()\n",
    "model.add(Flatten(input_shape=(8,8)))\n",
    "model.add(Dense(50,activation='relu'))\n",
    "model.add(Dense(7,activation='softmax'))\n",
    "model.compile(optimizer='rmsprop',loss=tf.keras.losses.SparseCategoricalCrossentropy(from_logits=True),\n",
    "    metrics=[tf.keras.metrics.SparseCategoricalAccuracy()])\n",
    "#model.add(Dense(4,activation='relu'))\n",
    "#model.add(Dense(4,activation='relu'))\n",
    "#model.add(Dense(4,activation='relu'))\n",
    "#model.add(Dense(1))\n",
    "#model.compile(optimizer='rmsprop',loss='mse',metrics=['accuracy'])"
   ]
  },
  {
   "cell_type": "code",
   "execution_count": 28,
   "id": "0743f56e-1db2-4eb3-a166-02d17034bfa2",
   "metadata": {},
   "outputs": [
    {
     "data": {
      "text/plain": [
       "array([[0.73306773, 0.73913043, 0.73858921, 0.69196429, 0.71186441,\n",
       "        0.68897638, 0.71314741, 0.74380165, 0.67843137, 0.75609756,\n",
       "        0.68534483, 0.61206897, 0.63636364, 0.72173913, 0.73622047,\n",
       "        0.7195122 , 0.62598425, 0.66942149, 0.53968254, 0.45991561,\n",
       "        0.56734694, 0.752     , 0.76890756, 0.7250996 , 0.65863454,\n",
       "        0.56626506, 0.3902439 , 0.39366516, 0.59192825, 0.71259843,\n",
       "        0.73839662, 0.70866142, 0.59437751, 0.59493671, 0.43027888,\n",
       "        0.43421053, 0.68325792, 0.73493976, 0.69456067, 0.68951613,\n",
       "        0.56910569, 0.57709251, 0.62301587, 0.51004016, 0.59109312,\n",
       "        0.75409836, 0.67355372, 0.64489796, 0.65098039, 0.57258065,\n",
       "        0.60655738, 0.63445378, 0.57333333, 0.62719298, 0.71836735,\n",
       "        0.62      , 0.668     , 0.64031621, 0.58      , 0.67206478,\n",
       "        0.66532258, 0.60474308, 0.592     , 0.63492063],\n",
       "       [0.68525896, 0.6798419 , 0.66804979, 0.66964286, 0.71186441,\n",
       "        0.72047244, 0.7250996 , 0.75206612, 0.66666667, 0.65853659,\n",
       "        0.56896552, 0.56465517, 0.63636364, 0.7       , 0.72047244,\n",
       "        0.72764228, 0.64566929, 0.55371901, 0.43650794, 0.38396624,\n",
       "        0.4122449 , 0.592     , 0.74369748, 0.71713147, 0.64658635,\n",
       "        0.48995984, 0.34146341, 0.33031674, 0.32735426, 0.43700787,\n",
       "        0.65822785, 0.70866142, 0.65060241, 0.54852321, 0.38645418,\n",
       "        0.34210526, 0.33484163, 0.34136546, 0.57740586, 0.69354839,\n",
       "        0.66260163, 0.60792952, 0.56349206, 0.42168675, 0.29149798,\n",
       "        0.29098361, 0.52892562, 0.69795918, 0.66666667, 0.68951613,\n",
       "        0.66393443, 0.6092437 , 0.45333333, 0.44736842, 0.64489796,\n",
       "        0.7       , 0.668     , 0.67193676, 0.68      , 0.68825911,\n",
       "        0.67741935, 0.67588933, 0.692     , 0.69444444],\n",
       "       [0.74900398, 0.72727273, 0.60995851, 0.47321429, 0.44491525,\n",
       "        0.5       , 0.6374502 , 0.70247934, 0.71764706, 0.6504065 ,\n",
       "        0.49568966, 0.36637931, 0.38429752, 0.45652174, 0.62204724,\n",
       "        0.70325203, 0.69291339, 0.57438017, 0.43650794, 0.42194093,\n",
       "        0.39183673, 0.416     , 0.65546218, 0.71713147, 0.66666667,\n",
       "        0.51807229, 0.3495935 , 0.43438914, 0.38116592, 0.4488189 ,\n",
       "        0.67088608, 0.70866142, 0.62248996, 0.45991561, 0.33864542,\n",
       "        0.37280702, 0.38461538, 0.53413655, 0.71548117, 0.70967742,\n",
       "        0.58130081, 0.37885463, 0.39285714, 0.36947791, 0.4534413 ,\n",
       "        0.65163934, 0.7107438 , 0.72244898, 0.54509804, 0.52016129,\n",
       "        0.50819672, 0.53361345, 0.61777778, 0.71052632, 0.73061224,\n",
       "        0.716     , 0.568     , 0.56521739, 0.62      , 0.70040486,\n",
       "        0.72983871, 0.72727273, 0.704     , 0.69444444],\n",
       "       [0.70119522, 0.72727273, 0.75518672, 0.75      , 0.74576271,\n",
       "        0.7480315 , 0.72908367, 0.69008264, 0.71764706, 0.76829268,\n",
       "        0.76724138, 0.7887931 , 0.82231405, 0.8173913 , 0.7480315 ,\n",
       "        0.69512195, 0.72440945, 0.75619835, 0.79365079, 0.8185654 ,\n",
       "        0.82857143, 0.772     , 0.77310924, 0.69322709, 0.75903614,\n",
       "        0.78714859, 0.75203252, 0.59728507, 0.64573991, 0.78740157,\n",
       "        0.75527426, 0.68110236, 0.76305221, 0.78059072, 0.76095618,\n",
       "        0.59649123, 0.56108597, 0.80321285, 0.79916318, 0.70564516,\n",
       "        0.74390244, 0.73568282, 0.79761905, 0.82730924, 0.79757085,\n",
       "        0.79508197, 0.73553719, 0.71020408, 0.72156863, 0.77016129,\n",
       "        0.75819672, 0.79411765, 0.78666667, 0.76754386, 0.73061224,\n",
       "        0.672     , 0.708     , 0.73913043, 0.772     , 0.80566802,\n",
       "        0.79435484, 0.76679842, 0.7       , 0.6468254 ],\n",
       "       [0.7689243 , 0.77470356, 0.77178423, 0.77232143, 0.81779661,\n",
       "        0.77952756, 0.75697211, 0.79338843, 0.76862745, 0.7398374 ,\n",
       "        0.59051724, 0.64655172, 0.78512397, 0.80869565, 0.70866142,\n",
       "        0.7601626 , 0.78346457, 0.72727273, 0.47619048, 0.5443038 ,\n",
       "        0.70204082, 0.768     , 0.71428571, 0.69721116, 0.81927711,\n",
       "        0.76706827, 0.57317073, 0.59728507, 0.79820628, 0.73228346,\n",
       "        0.73839662, 0.7992126 , 0.81124498, 0.80590717, 0.66135458,\n",
       "        0.6622807 , 0.78280543, 0.69477912, 0.73640167, 0.8266129 ,\n",
       "        0.80081301, 0.7753304 , 0.67857143, 0.59036145, 0.58704453,\n",
       "        0.6557377 , 0.66528926, 0.8122449 , 0.79607843, 0.81451613,\n",
       "        0.66803279, 0.62605042, 0.68      , 0.77192982, 0.76734694,\n",
       "        0.764     , 0.768     , 0.74703557, 0.776     , 0.75708502,\n",
       "        0.81048387, 0.80632411, 0.788     , 0.78174603],\n",
       "       [0.72111554, 0.66403162, 0.56846473, 0.5625    , 0.65677966,\n",
       "        0.67716535, 0.69322709, 0.71900826, 0.72156863, 0.64634146,\n",
       "        0.42241379, 0.40086207, 0.56198347, 0.69565217, 0.68897638,\n",
       "        0.69512195, 0.68503937, 0.6446281 , 0.47222222, 0.43881857,\n",
       "        0.51020408, 0.636     , 0.72268908, 0.68525896, 0.71485944,\n",
       "        0.68674699, 0.59349593, 0.40271493, 0.42600897, 0.53543307,\n",
       "        0.69620253, 0.67716535, 0.7188755 , 0.68776371, 0.51394422,\n",
       "        0.34210526, 0.33936652, 0.51405622, 0.67782427, 0.65725806,\n",
       "        0.65853659, 0.59471366, 0.48412698, 0.3935743 , 0.36437247,\n",
       "        0.59836066, 0.6322314 , 0.62040816, 0.64705882, 0.60887097,\n",
       "        0.60655738, 0.43277311, 0.30222222, 0.59210526, 0.68163265,\n",
       "        0.644     , 0.624     , 0.59683794, 0.632     , 0.48582996,\n",
       "        0.46774194, 0.6284585 , 0.672     , 0.63888889],\n",
       "       [0.43426295, 0.58498024, 0.62655602, 0.57142857, 0.55084746,\n",
       "        0.59448819, 0.56573705, 0.5661157 , 0.49019608, 0.6300813 ,\n",
       "        0.62068966, 0.58189655, 0.62396694, 0.66086957, 0.61023622,\n",
       "        0.60569106, 0.59055118, 0.59917355, 0.59126984, 0.44303797,\n",
       "        0.48571429, 0.656     , 0.68487395, 0.63346614, 0.63052209,\n",
       "        0.61044177, 0.46341463, 0.26696833, 0.28699552, 0.54724409,\n",
       "        0.66244726, 0.63385827, 0.62248996, 0.66244726, 0.49800797,\n",
       "        0.33333333, 0.26244344, 0.4939759 , 0.69037657, 0.65322581,\n",
       "        0.58943089, 0.53303965, 0.56349206, 0.32931727, 0.25101215,\n",
       "        0.5942623 , 0.66942149, 0.66530612, 0.50196078, 0.64112903,\n",
       "        0.61065574, 0.54201681, 0.52888889, 0.63596491, 0.67346939,\n",
       "        0.636     , 0.468     , 0.59288538, 0.636     , 0.61538462,\n",
       "        0.62903226, 0.64426877, 0.636     , 0.55952381],\n",
       "       [0.68525896, 0.70750988, 0.70954357, 0.69642857, 0.70762712,\n",
       "        0.68110236, 0.66932271, 0.67768595, 0.69803922, 0.75609756,\n",
       "        0.72844828, 0.73706897, 0.7231405 , 0.72173913, 0.68503937,\n",
       "        0.68699187, 0.70472441, 0.74793388, 0.73015873, 0.70464135,\n",
       "        0.71428571, 0.724     , 0.73109244, 0.68924303, 0.73092369,\n",
       "        0.74297189, 0.63821138, 0.22171946, 0.52017937, 0.73228346,\n",
       "        0.72151899, 0.7007874 , 0.7188755 , 0.74261603, 0.6812749 ,\n",
       "        0.57017544, 0.71493213, 0.72690763, 0.74895397, 0.72177419,\n",
       "        0.69918699, 0.68281938, 0.72222222, 0.75100402, 0.72874494,\n",
       "        0.74180328, 0.69008264, 0.68571429, 0.65098039, 0.70967742,\n",
       "        0.67622951, 0.69747899, 0.69333333, 0.70175439, 0.72244898,\n",
       "        0.688     , 0.64      , 0.65217391, 0.676     , 0.70445344,\n",
       "        0.71370968, 0.71541502, 0.704     , 0.67460317],\n",
       "       [0.45418327, 0.5256917 , 0.56016598, 0.57142857, 0.61864407,\n",
       "        0.61811024, 0.56972112, 0.52479339, 0.48235294, 0.55284553,\n",
       "        0.53017241, 0.50431034, 0.54132231, 0.56086957, 0.54724409,\n",
       "        0.54878049, 0.45275591, 0.46694215, 0.49603175, 0.49367089,\n",
       "        0.46938776, 0.424     , 0.47058824, 0.49800797, 0.41365462,\n",
       "        0.437751  , 0.44308943, 0.51131222, 0.51569507, 0.38582677,\n",
       "        0.39662447, 0.43307087, 0.42971888, 0.40506329, 0.4501992 ,\n",
       "        0.50438596, 0.49321267, 0.42570281, 0.43514644, 0.47983871,\n",
       "        0.50406504, 0.44933921, 0.51587302, 0.53413655, 0.55465587,\n",
       "        0.55737705, 0.50413223, 0.52244898, 0.52156863, 0.63709677,\n",
       "        0.61065574, 0.61344538, 0.64444444, 0.63596491, 0.60816327,\n",
       "        0.512     , 0.52      , 0.59288538, 0.64      , 0.66801619,\n",
       "        0.65322581, 0.63636364, 0.604     , 0.53571429],\n",
       "       [0.67330677, 0.6798419 , 0.66390041, 0.66071429, 0.67372881,\n",
       "        0.63385827, 0.67729084, 0.7107438 , 0.67058824, 0.69918699,\n",
       "        0.66810345, 0.56896552, 0.49173554, 0.59130435, 0.68110236,\n",
       "        0.67886179, 0.64566929, 0.67355372, 0.68650794, 0.4978903 ,\n",
       "        0.36326531, 0.508     , 0.69327731, 0.66932271, 0.64658635,\n",
       "        0.65060241, 0.66260163, 0.5520362 , 0.40807175, 0.54330709,\n",
       "        0.68776371, 0.67322835, 0.65863454, 0.62869198, 0.65737052,\n",
       "        0.59649123, 0.52941176, 0.65060241, 0.72384937, 0.67741935,\n",
       "        0.67073171, 0.58590308, 0.62301587, 0.66666667, 0.68016194,\n",
       "        0.72131148, 0.68595041, 0.67755102, 0.62745098, 0.66532258,\n",
       "        0.5942623 , 0.68907563, 0.68444444, 0.70175439, 0.70204082,\n",
       "        0.672     , 0.628     , 0.63241107, 0.616     , 0.69230769,\n",
       "        0.7016129 , 0.68774704, 0.68      , 0.67857143]])"
      ]
     },
     "execution_count": 28,
     "metadata": {},
     "output_type": "execute_result"
    }
   ],
   "source": [
    "#X_train = X_train/255.0\n",
    "X_train[0:10]"
   ]
  },
  {
   "cell_type": "code",
   "execution_count": 29,
   "id": "330fa3b7-a41f-4f20-a8ff-6d62b0539d9e",
   "metadata": {},
   "outputs": [
    {
     "data": {
      "text/plain": [
       "(32914, 64)"
      ]
     },
     "execution_count": 29,
     "metadata": {},
     "output_type": "execute_result"
    }
   ],
   "source": [
    "X_train.shape"
   ]
  },
  {
   "cell_type": "code",
   "execution_count": 30,
   "id": "601e46f8-6c7f-48c6-b820-8c830a162bbc",
   "metadata": {},
   "outputs": [
    {
     "data": {
      "text/plain": [
       "array([[0.70916335, 0.71541502, 0.71369295, ..., 0.71146245, 0.688     ,\n",
       "        0.69444444],\n",
       "       [0.60557769, 0.58498024, 0.593361  , ..., 0.59288538, 0.572     ,\n",
       "        0.57539683],\n",
       "       [0.61354582, 0.68774704, 0.70539419, ..., 0.69960474, 0.664     ,\n",
       "        0.59920635],\n",
       "       ...,\n",
       "       [0.41146733, 0.52071494, 0.56985046, ..., 0.68467447, 0.6348176 ,\n",
       "        0.52946865],\n",
       "       [0.71813439, 0.68361277, 0.58788097, ..., 0.61741408, 0.67477708,\n",
       "        0.6749955 ],\n",
       "       [0.10823108, 0.4438303 , 0.55117842, ..., 0.582039  , 0.5038672 ,\n",
       "        0.28469894]])"
      ]
     },
     "execution_count": 30,
     "metadata": {},
     "output_type": "execute_result"
    }
   ],
   "source": [
    "#X_test = X_test/255.0\n",
    "X_test"
   ]
  },
  {
   "cell_type": "code",
   "execution_count": 31,
   "id": "17c8bf72-3d53-4298-ae00-39a22452d0c0",
   "metadata": {},
   "outputs": [
    {
     "data": {
      "text/plain": [
       "array([4, 4, 4, 4, 0, 4, 6, 4, 4, 4], dtype=int64)"
      ]
     },
     "execution_count": 31,
     "metadata": {},
     "output_type": "execute_result"
    }
   ],
   "source": [
    "y_train[0:10]"
   ]
  },
  {
   "cell_type": "code",
   "execution_count": 41,
   "id": "972f6e9e-263e-4b6d-8b5e-0fdabaacfafa",
   "metadata": {},
   "outputs": [
    {
     "name": "stdout",
     "output_type": "stream",
     "text": [
      "Epoch 1/25\n",
      "1029/1029 [==============================] - 1s 1ms/step - loss: 0.7532 - sparse_categorical_accuracy: 0.7216\n",
      "Epoch 2/25\n",
      "1029/1029 [==============================] - 1s 1ms/step - loss: 0.7520 - sparse_categorical_accuracy: 0.7234\n",
      "Epoch 3/25\n",
      "1029/1029 [==============================] - 1s 1ms/step - loss: 0.7495 - sparse_categorical_accuracy: 0.7216\n",
      "Epoch 4/25\n",
      "1029/1029 [==============================] - 1s 1ms/step - loss: 0.7443 - sparse_categorical_accuracy: 0.7251\n",
      "Epoch 5/25\n",
      "1029/1029 [==============================] - 1s 1ms/step - loss: 0.7522 - sparse_categorical_accuracy: 0.7210\n",
      "Epoch 6/25\n",
      "1029/1029 [==============================] - 1s 1ms/step - loss: 0.7506 - sparse_categorical_accuracy: 0.7246\n",
      "Epoch 7/25\n",
      "1029/1029 [==============================] - 1s 1ms/step - loss: 0.7533 - sparse_categorical_accuracy: 0.7208\n",
      "Epoch 8/25\n",
      "1029/1029 [==============================] - 1s 1ms/step - loss: 0.7508 - sparse_categorical_accuracy: 0.7196\n",
      "Epoch 9/25\n",
      "1029/1029 [==============================] - 1s 1ms/step - loss: 0.7470 - sparse_categorical_accuracy: 0.7232\n",
      "Epoch 10/25\n",
      "1029/1029 [==============================] - 1s 1ms/step - loss: 0.7506 - sparse_categorical_accuracy: 0.7229\n",
      "Epoch 11/25\n",
      "1029/1029 [==============================] - 1s 1ms/step - loss: 0.7507 - sparse_categorical_accuracy: 0.7201\n",
      "Epoch 12/25\n",
      "1029/1029 [==============================] - 1s 1ms/step - loss: 0.7500 - sparse_categorical_accuracy: 0.7219\n",
      "Epoch 13/25\n",
      "1029/1029 [==============================] - 1s 1ms/step - loss: 0.7493 - sparse_categorical_accuracy: 0.7232\n",
      "Epoch 14/25\n",
      "1029/1029 [==============================] - 1s 1ms/step - loss: 0.7509 - sparse_categorical_accuracy: 0.7225\n",
      "Epoch 15/25\n",
      "1029/1029 [==============================] - 1s 1ms/step - loss: 0.7449 - sparse_categorical_accuracy: 0.7243\n",
      "Epoch 16/25\n",
      "1029/1029 [==============================] - 1s 1ms/step - loss: 0.7486 - sparse_categorical_accuracy: 0.7232\n",
      "Epoch 17/25\n",
      "1029/1029 [==============================] - 1s 1ms/step - loss: 0.7439 - sparse_categorical_accuracy: 0.7260\n",
      "Epoch 18/25\n",
      "1029/1029 [==============================] - 1s 1ms/step - loss: 0.7482 - sparse_categorical_accuracy: 0.7249\n",
      "Epoch 19/25\n",
      "1029/1029 [==============================] - 1s 1ms/step - loss: 0.7469 - sparse_categorical_accuracy: 0.7191\n",
      "Epoch 20/25\n",
      "1029/1029 [==============================] - 1s 1ms/step - loss: 0.7449 - sparse_categorical_accuracy: 0.7249\n",
      "Epoch 21/25\n",
      "1029/1029 [==============================] - 1s 1ms/step - loss: 0.7440 - sparse_categorical_accuracy: 0.7238\n",
      "Epoch 22/25\n",
      "1029/1029 [==============================] - 1s 1ms/step - loss: 0.7476 - sparse_categorical_accuracy: 0.7232\n",
      "Epoch 23/25\n",
      "1029/1029 [==============================] - 1s 1ms/step - loss: 0.7444 - sparse_categorical_accuracy: 0.7243\n",
      "Epoch 24/25\n",
      "1029/1029 [==============================] - 1s 1ms/step - loss: 0.7433 - sparse_categorical_accuracy: 0.7223\n",
      "Epoch 25/25\n",
      "1029/1029 [==============================] - 1s 1ms/step - loss: 0.7479 - sparse_categorical_accuracy: 0.7208\n"
     ]
    },
    {
     "data": {
      "text/plain": [
       "<keras.callbacks.History at 0x1a6350cb820>"
      ]
     },
     "execution_count": 41,
     "metadata": {},
     "output_type": "execute_result"
    }
   ],
   "source": [
    "model.fit(x=X_train,y=y_train,epochs=25,verbose=1)"
   ]
  },
  {
   "cell_type": "code",
   "execution_count": 42,
   "id": "6ff80cfd-ed4d-468e-a195-b8e8a6bbbcbc",
   "metadata": {},
   "outputs": [
    {
     "data": {
      "text/plain": [
       "<AxesSubplot:>"
      ]
     },
     "execution_count": 42,
     "metadata": {},
     "output_type": "execute_result"
    },
    {
     "data": {
      "image/png": "[encoded data removed]",
      "text/plain": [
       "<Figure size 432x288 with 1 Axes>"
      ]
     },
     "metadata": {
      "needs_background": "light"
     },
     "output_type": "display_data"
    }
   ],
   "source": [
    "loss_df = pd.DataFrame(model.history.history)\n",
    "loss_df.plot()"
   ]
  },
  {
   "cell_type": "code",
   "execution_count": 43,
   "id": "036977f6-513e-44f4-9083-801e52fecd5f",
   "metadata": {},
   "outputs": [
    {
     "name": "stdout",
     "output_type": "stream",
     "text": [
      "WARNING:tensorflow:Model was constructed with shape (None, 8, 8) for input KerasTensor(type_spec=TensorSpec(shape=(None, 8, 8), dtype=tf.float32, name='flatten_input'), name='flatten_input', description=\"created by layer 'flatten_input'\"), but it was called on an input with incompatible shape (None, 64).\n"
     ]
    },
    {
     "name": "stderr",
     "output_type": "stream",
     "text": [
      "c:\\users\\andre\\appdata\\local\\programs\\python\\python38\\lib\\site-packages\\keras\\backend.py:4906: UserWarning: \"`sparse_categorical_crossentropy` received `from_logits=True`, but the `output` argument was produced by a sigmoid or softmax activation and thus does not represent logits. Was this intended?\"\n",
      "  warnings.warn(\n"
     ]
    },
    {
     "data": {
      "text/plain": [
       "[2.9195196628570557, 0.39619141817092896]"
      ]
     },
     "execution_count": 43,
     "metadata": {},
     "output_type": "execute_result"
    }
   ],
   "source": [
    "model.evaluate(x=X_test,y=y_test,verbose=0)"
   ]
  },
  {
   "cell_type": "code",
   "execution_count": 44,
   "id": "7c510a6b-edf1-4e95-8002-a4c779cf18d9",
   "metadata": {},
   "outputs": [
    {
     "name": "stdout",
     "output_type": "stream",
     "text": [
      "WARNING:tensorflow:Model was constructed with shape (None, 8, 8) for input KerasTensor(type_spec=TensorSpec(shape=(None, 8, 8), dtype=tf.float32, name='flatten_input'), name='flatten_input', description=\"created by layer 'flatten_input'\"), but it was called on an input with incompatible shape (None, 64).\n"
     ]
    },
    {
     "data": {
      "text/plain": [
       "array([[1.49661405e-02, 1.26323149e-01, 6.79887384e-02, 7.42302835e-01,\n",
       "        3.88813876e-02, 8.19361521e-05, 9.45573114e-03],\n",
       "       [7.04066906e-07, 5.15935011e-04, 1.72128007e-01, 6.47105113e-12,\n",
       "        5.87269425e-01, 1.86017841e-01, 5.40681370e-02],\n",
       "       [4.47409367e-03, 2.57566739e-02, 2.26793457e-02, 9.41875935e-01,\n",
       "        3.64989392e-03, 4.95898860e-07, 1.56358734e-03],\n",
       "       [8.31973302e-05, 1.41565138e-02, 2.42904857e-01, 1.79575831e-12,\n",
       "        1.39841689e-02, 3.06451975e-09, 7.28871346e-01],\n",
       "       [7.33535388e-04, 2.42050411e-03, 6.86161101e-01, 6.92144965e-07,\n",
       "        3.19252685e-02, 7.19945183e-06, 2.78751671e-01],\n",
       "       [2.54386180e-07, 2.27349460e-06, 3.32512781e-02, 4.52000971e-11,\n",
       "        1.59021333e-01, 1.07088214e-08, 8.07724893e-01],\n",
       "       [7.55979030e-08, 4.02879843e-04, 7.61167288e-01, 7.04074576e-09,\n",
       "        1.54939890e-01, 3.27624093e-07, 8.34894776e-02],\n",
       "       [3.29357341e-08, 6.26334906e-01, 9.34329331e-02, 2.12532620e-20,\n",
       "        2.80224383e-01, 8.21765326e-21, 7.74286309e-06],\n",
       "       [6.42127777e-03, 1.27621084e-01, 3.82505059e-01, 9.66877451e-07,\n",
       "        2.69480586e-01, 1.32367715e-01, 8.16033706e-02],\n",
       "       [3.49496608e-04, 2.05271430e-02, 8.72372359e-04, 1.19845271e-02,\n",
       "        2.82016979e-03, 9.63444054e-01, 2.24949576e-06]], dtype=float32)"
      ]
     },
     "execution_count": 44,
     "metadata": {},
     "output_type": "execute_result"
    }
   ],
   "source": [
    "test_predictions = model.predict(X_test)\n",
    "test_predictions[0:10]"
   ]
  },
  {
   "cell_type": "code",
   "execution_count": 45,
   "id": "b60d9d8f-069c-4e0c-9807-5e491ff25258",
   "metadata": {},
   "outputs": [
    {
     "data": {
      "text/plain": [
       "numpy.ndarray"
      ]
     },
     "execution_count": 45,
     "metadata": {},
     "output_type": "execute_result"
    }
   ],
   "source": [
    "type(test_predictions)"
   ]
  },
  {
   "cell_type": "code",
   "execution_count": 46,
   "id": "2efc3e17-e794-43a6-b0f5-5ce3a1d4e15a",
   "metadata": {},
   "outputs": [
    {
     "data": {
      "text/plain": [
       "array([2, 4, 2, 0, 2, 6, 4, 2, 4, 3], dtype=int64)"
      ]
     },
     "execution_count": 46,
     "metadata": {},
     "output_type": "execute_result"
    }
   ],
   "source": [
    "y_test[0:10]"
   ]
  },
  {
   "cell_type": "code",
   "execution_count": 6,
   "id": "9d81d6d0-104f-4b72-8d36-22c177e81140",
   "metadata": {},
   "outputs": [
    {
     "data": {
      "text/html": [
       "<div>\n",
       "<style scoped>\n",
       "    .dataframe tbody tr th:only-of-type {\n",
       "        vertical-align: middle;\n",
       "    }\n",
       "\n",
       "    .dataframe tbody tr th {\n",
       "        vertical-align: top;\n",
       "    }\n",
       "\n",
       "    .dataframe thead th {\n",
       "        text-align: right;\n",
       "    }\n",
       "</style>\n",
       "<table border=\"1\" class=\"dataframe\">\n",
       "  <thead>\n",
       "    <tr style=\"text-align: right;\">\n",
       "      <th></th>\n",
       "      <th>pixel0000</th>\n",
       "      <th>pixel0001</th>\n",
       "      <th>pixel0002</th>\n",
       "      <th>pixel0003</th>\n",
       "      <th>pixel0004</th>\n",
       "      <th>pixel0005</th>\n",
       "      <th>pixel0006</th>\n",
       "      <th>pixel0007</th>\n",
       "      <th>pixel0008</th>\n",
       "      <th>pixel0009</th>\n",
       "      <th>...</th>\n",
       "      <th>pixel0774</th>\n",
       "      <th>pixel0775</th>\n",
       "      <th>pixel0776</th>\n",
       "      <th>pixel0777</th>\n",
       "      <th>pixel0778</th>\n",
       "      <th>pixel0779</th>\n",
       "      <th>pixel0780</th>\n",
       "      <th>pixel0781</th>\n",
       "      <th>pixel0782</th>\n",
       "      <th>pixel0783</th>\n",
       "    </tr>\n",
       "  </thead>\n",
       "  <tbody>\n",
       "    <tr>\n",
       "      <th>0</th>\n",
       "      <td>169</td>\n",
       "      <td>171</td>\n",
       "      <td>170</td>\n",
       "      <td>177</td>\n",
       "      <td>181</td>\n",
       "      <td>182</td>\n",
       "      <td>181</td>\n",
       "      <td>185</td>\n",
       "      <td>194</td>\n",
       "      <td>192</td>\n",
       "      <td>...</td>\n",
       "      <td>176</td>\n",
       "      <td>184</td>\n",
       "      <td>186</td>\n",
       "      <td>185</td>\n",
       "      <td>180</td>\n",
       "      <td>157</td>\n",
       "      <td>140</td>\n",
       "      <td>140</td>\n",
       "      <td>159</td>\n",
       "      <td>165</td>\n",
       "    </tr>\n",
       "    <tr>\n",
       "      <th>1</th>\n",
       "      <td>19</td>\n",
       "      <td>57</td>\n",
       "      <td>105</td>\n",
       "      <td>140</td>\n",
       "      <td>149</td>\n",
       "      <td>148</td>\n",
       "      <td>144</td>\n",
       "      <td>155</td>\n",
       "      <td>170</td>\n",
       "      <td>170</td>\n",
       "      <td>...</td>\n",
       "      <td>181</td>\n",
       "      <td>172</td>\n",
       "      <td>175</td>\n",
       "      <td>160</td>\n",
       "      <td>144</td>\n",
       "      <td>114</td>\n",
       "      <td>89</td>\n",
       "      <td>47</td>\n",
       "      <td>18</td>\n",
       "      <td>18</td>\n",
       "    </tr>\n",
       "    <tr>\n",
       "      <th>2</th>\n",
       "      <td>155</td>\n",
       "      <td>163</td>\n",
       "      <td>161</td>\n",
       "      <td>167</td>\n",
       "      <td>167</td>\n",
       "      <td>172</td>\n",
       "      <td>155</td>\n",
       "      <td>152</td>\n",
       "      <td>165</td>\n",
       "      <td>175</td>\n",
       "      <td>...</td>\n",
       "      <td>162</td>\n",
       "      <td>163</td>\n",
       "      <td>178</td>\n",
       "      <td>157</td>\n",
       "      <td>166</td>\n",
       "      <td>167</td>\n",
       "      <td>148</td>\n",
       "      <td>141</td>\n",
       "      <td>136</td>\n",
       "      <td>115</td>\n",
       "    </tr>\n",
       "    <tr>\n",
       "      <th>3</th>\n",
       "      <td>25</td>\n",
       "      <td>71</td>\n",
       "      <td>116</td>\n",
       "      <td>139</td>\n",
       "      <td>136</td>\n",
       "      <td>153</td>\n",
       "      <td>148</td>\n",
       "      <td>161</td>\n",
       "      <td>172</td>\n",
       "      <td>162</td>\n",
       "      <td>...</td>\n",
       "      <td>142</td>\n",
       "      <td>125</td>\n",
       "      <td>135</td>\n",
       "      <td>138</td>\n",
       "      <td>137</td>\n",
       "      <td>111</td>\n",
       "      <td>71</td>\n",
       "      <td>32</td>\n",
       "      <td>16</td>\n",
       "      <td>16</td>\n",
       "    </tr>\n",
       "    <tr>\n",
       "      <th>4</th>\n",
       "      <td>129</td>\n",
       "      <td>162</td>\n",
       "      <td>181</td>\n",
       "      <td>196</td>\n",
       "      <td>205</td>\n",
       "      <td>208</td>\n",
       "      <td>205</td>\n",
       "      <td>213</td>\n",
       "      <td>225</td>\n",
       "      <td>224</td>\n",
       "      <td>...</td>\n",
       "      <td>211</td>\n",
       "      <td>210</td>\n",
       "      <td>197</td>\n",
       "      <td>172</td>\n",
       "      <td>190</td>\n",
       "      <td>195</td>\n",
       "      <td>193</td>\n",
       "      <td>181</td>\n",
       "      <td>147</td>\n",
       "      <td>88</td>\n",
       "    </tr>\n",
       "  </tbody>\n",
       "</table>\n",
       "<p>5 rows × 784 columns</p>\n",
       "</div>"
      ],
      "text/plain": [
       "   pixel0000  pixel0001  pixel0002  pixel0003  pixel0004  pixel0005  \\\n",
       "0        169        171        170        177        181        182   \n",
       "1         19         57        105        140        149        148   \n",
       "2        155        163        161        167        167        172   \n",
       "3         25         71        116        139        136        153   \n",
       "4        129        162        181        196        205        208   \n",
       "\n",
       "   pixel0006  pixel0007  pixel0008  pixel0009  ...  pixel0774  pixel0775  \\\n",
       "0        181        185        194        192  ...        176        184   \n",
       "1        144        155        170        170  ...        181        172   \n",
       "2        155        152        165        175  ...        162        163   \n",
       "3        148        161        172        162  ...        142        125   \n",
       "4        205        213        225        224  ...        211        210   \n",
       "\n",
       "   pixel0776  pixel0777  pixel0778  pixel0779  pixel0780  pixel0781  \\\n",
       "0        186        185        180        157        140        140   \n",
       "1        175        160        144        114         89         47   \n",
       "2        178        157        166        167        148        141   \n",
       "3        135        138        137        111         71         32   \n",
       "4        197        172        190        195        193        181   \n",
       "\n",
       "   pixel0782  pixel0783  \n",
       "0        159        165  \n",
       "1         18         18  \n",
       "2        136        115  \n",
       "3         16         16  \n",
       "4        147         88  \n",
       "\n",
       "[5 rows x 784 columns]"
      ]
     },
     "execution_count": 6,
     "metadata": {},
     "output_type": "execute_result"
    }
   ],
   "source": [
    "##### leNet Implementation - Actual Code #####\n",
    "# 28x28L data\n",
    "df_hmnist_28_28_L = pd.read_csv('./Data/hmnist_28_28_L.csv/hmnist_28_28_L.csv')\n",
    "df_hmnist_28_28_L_Labels = np.asarray(df_hmnist_28_28_L['label'])\n",
    "df_hmnist_28_28_L = df_hmnist_28_28_L.drop('label',axis=1)\n",
    "df_hmnist_28_28_L.head()"
   ]
  },
  {
   "cell_type": "code",
   "execution_count": 7,
   "id": "f969b39d-6ff4-457b-b0ca-1f8b01f23472",
   "metadata": {},
   "outputs": [
    {
     "data": {
      "text/plain": [
       "(10015, 784)"
      ]
     },
     "execution_count": 7,
     "metadata": {},
     "output_type": "execute_result"
    }
   ],
   "source": [
    "df_hmnist_28_28_L.shape"
   ]
  },
  {
   "cell_type": "code",
   "execution_count": 8,
   "id": "b4e5a187-78b2-439d-83c4-33a3ebd3c630",
   "metadata": {},
   "outputs": [
    {
     "data": {
      "text/plain": [
       "array([[169, 171, 170, ..., 140, 159, 165],\n",
       "       [ 19,  57, 105, ...,  47,  18,  18],\n",
       "       [155, 163, 161, ..., 141, 136, 115],\n",
       "       ...,\n",
       "       [131, 139, 140, ..., 113,  67,  22],\n",
       "       [ 96, 129, 138, ...,  91,  43,  11],\n",
       "       [195, 191, 185, ..., 166, 174, 167]], dtype=int64)"
      ]
     },
     "execution_count": 8,
     "metadata": {},
     "output_type": "execute_result"
    }
   ],
   "source": [
    "hmnist_28_28_L = np.asarray(df_hmnist_28_28_L)\n",
    "hmnist_28_28_L[0:10]"
   ]
  },
  {
   "cell_type": "code",
   "execution_count": 9,
   "id": "053ccb80-c363-4c3f-b101-0f25057a098c",
   "metadata": {},
   "outputs": [
    {
     "name": "stderr",
     "output_type": "stream",
     "text": [
      "c:\\users\\andre\\appdata\\local\\programs\\python\\python38\\lib\\site-packages\\seaborn\\_decorators.py:36: FutureWarning: Pass the following variable as a keyword arg: x. From version 0.12, the only valid positional argument will be `data`, and passing other arguments without an explicit keyword will result in an error or misinterpretation.\n",
      "  warnings.warn(\n"
     ]
    },
    {
     "data": {
      "text/plain": [
       "<AxesSubplot:ylabel='count'>"
      ]
     },
     "execution_count": 9,
     "metadata": {},
     "output_type": "execute_result"
    },
    {
     "data": {
      "image/png": "[encoded data removed]",
      "text/plain": [
       "<Figure size 432x288 with 1 Axes>"
      ]
     },
     "metadata": {
      "needs_background": "light"
     },
     "output_type": "display_data"
    }
   ],
   "source": [
    "plt.figure(figsize=(6,4))\n",
    "sns.countplot(df_hmnist_28_28_L_Labels)"
   ]
  },
  {
   "cell_type": "code",
   "execution_count": 38,
   "id": "19ec0b51-4ea9-4931-b8e0-a80e42c48548",
   "metadata": {},
   "outputs": [],
   "source": [
    "# Grayscale 28x28\n",
    "X_train, X_test, y_train, y_test = train_test_split(hmnist_28_28_L, df_hmnist_28_28_L_Labels, test_size=0.30, random_state=101)"
   ]
  },
  {
   "cell_type": "code",
   "execution_count": 43,
   "id": "30e7da57-ce90-4bad-a036-65229987fdd3",
   "metadata": {},
   "outputs": [
    {
     "data": {
      "text/plain": [
       "numpy.ndarray"
      ]
     },
     "execution_count": 43,
     "metadata": {},
     "output_type": "execute_result"
    }
   ],
   "source": [
    "X_train.shape\n",
    "X_train = X_train.reshape(X_train.shape[0],28,28)\n",
    "type(X_train)"
   ]
  },
  {
   "cell_type": "code",
   "execution_count": 44,
   "id": "56cb0f74-662d-4188-811c-999c0d1fecc0",
   "metadata": {},
   "outputs": [
    {
     "data": {
      "text/plain": [
       "(7010, 28, 28)"
      ]
     },
     "execution_count": 44,
     "metadata": {},
     "output_type": "execute_result"
    }
   ],
   "source": [
    "X_train.shape"
   ]
  },
  {
   "cell_type": "code",
   "execution_count": 45,
   "id": "d6acbe34-92db-4bab-a073-3e859bde5b67",
   "metadata": {},
   "outputs": [
    {
     "data": {
      "text/plain": [
       "numpy.ndarray"
      ]
     },
     "execution_count": 45,
     "metadata": {},
     "output_type": "execute_result"
    }
   ],
   "source": [
    "X_test.shape\n",
    "X_test = X_test.reshape(X_test.shape[0],28,28)\n",
    "type(X_test)"
   ]
  },
  {
   "cell_type": "code",
   "execution_count": 46,
   "id": "025de0ed-6822-4715-a176-85323b93db84",
   "metadata": {},
   "outputs": [
    {
     "data": {
      "text/plain": [
       "tensorflow.python.framework.ops.EagerTensor"
      ]
     },
     "execution_count": 46,
     "metadata": {},
     "output_type": "execute_result"
    }
   ],
   "source": [
    "X_train = tf.convert_to_tensor(X_train, np.float64)\n",
    "type(X_train)"
   ]
  },
  {
   "cell_type": "code",
   "execution_count": 47,
   "id": "55f6427f-8680-4213-b156-3e0723aee189",
   "metadata": {},
   "outputs": [
    {
     "data": {
      "text/plain": [
       "tensorflow.python.framework.ops.EagerTensor"
      ]
     },
     "execution_count": 47,
     "metadata": {},
     "output_type": "execute_result"
    }
   ],
   "source": [
    "X_test = tf.convert_to_tensor(X_test, np.float64)\n",
    "type(X_test)"
   ]
  },
  {
   "cell_type": "code",
   "execution_count": 48,
   "id": "18361e71-05d0-4bcb-9437-2f6401ba6347",
   "metadata": {},
   "outputs": [
    {
     "name": "stdout",
     "output_type": "stream",
     "text": [
      "(7010, 32, 32)\n",
      "(3005, 32, 32)\n"
     ]
    }
   ],
   "source": [
    "X_train = tf.pad(X_train, [[0, 0], [2,2],[2,2]])/255\n",
    "X_test = tf.pad(X_test, [[0, 0], [2,2],[2,2]])/255\n",
    "print(X_train.shape)\n",
    "print(X_test.shape)"
   ]
  },
  {
   "cell_type": "code",
   "execution_count": 50,
   "id": "d6f2c757-eb2b-418a-b48c-43ddcd4f9f9e",
   "metadata": {},
   "outputs": [
    {
     "name": "stdout",
     "output_type": "stream",
     "text": [
      "(7010, 32, 32, 1)\n",
      "(3005, 32, 32, 1)\n"
     ]
    }
   ],
   "source": [
    "X_train = tf.expand_dims(X_train, axis=3, name=None)\n",
    "X_test = tf.expand_dims(X_test, axis=3, name=None)\n",
    "print(X_train.shape)\n",
    "print(X_test.shape)"
   ]
  },
  {
   "cell_type": "code",
   "execution_count": 51,
   "id": "c33b5b10-853c-4b80-9194-7e30d37b0f99",
   "metadata": {},
   "outputs": [
    {
     "data": {
      "text/plain": [
       "TensorShape([32, 32, 1])"
      ]
     },
     "execution_count": 51,
     "metadata": {},
     "output_type": "execute_result"
    }
   ],
   "source": [
    "X_train.shape[1:]"
   ]
  },
  {
   "cell_type": "code",
   "execution_count": 52,
   "id": "7ce22d90-9c45-45b8-b2ad-1180cec1a1cf",
   "metadata": {},
   "outputs": [
    {
     "name": "stdout",
     "output_type": "stream",
     "text": [
      "(7010, 32, 32, 3)\n"
     ]
    }
   ],
   "source": [
    "X_train = tf.image.grayscale_to_rgb(X_train,name=None)\n",
    "print(X_train.shape)"
   ]
  },
  {
   "cell_type": "code",
   "execution_count": 53,
   "id": "a5174936-9be3-48b5-b5c5-4cdf3ad0f74b",
   "metadata": {},
   "outputs": [
    {
     "name": "stdout",
     "output_type": "stream",
     "text": [
      "(3005, 32, 32, 3)\n"
     ]
    }
   ],
   "source": [
    "X_test = tf.image.grayscale_to_rgb(X_test,name=None)\n",
    "print(X_test.shape)"
   ]
  },
  {
   "cell_type": "code",
   "execution_count": 22,
   "id": "d2a4afae-efef-41a8-9b1f-88184ad44aca",
   "metadata": {},
   "outputs": [
    {
     "data": {
      "text/html": [
       "<div>\n",
       "<style scoped>\n",
       "    .dataframe tbody tr th:only-of-type {\n",
       "        vertical-align: middle;\n",
       "    }\n",
       "\n",
       "    .dataframe tbody tr th {\n",
       "        vertical-align: top;\n",
       "    }\n",
       "\n",
       "    .dataframe thead th {\n",
       "        text-align: right;\n",
       "    }\n",
       "</style>\n",
       "<table border=\"1\" class=\"dataframe\">\n",
       "  <thead>\n",
       "    <tr style=\"text-align: right;\">\n",
       "      <th></th>\n",
       "      <th>pixel0000</th>\n",
       "      <th>pixel0001</th>\n",
       "      <th>pixel0002</th>\n",
       "      <th>pixel0003</th>\n",
       "      <th>pixel0004</th>\n",
       "      <th>pixel0005</th>\n",
       "      <th>pixel0006</th>\n",
       "      <th>pixel0007</th>\n",
       "      <th>pixel0008</th>\n",
       "      <th>pixel0009</th>\n",
       "      <th>...</th>\n",
       "      <th>pixel2342</th>\n",
       "      <th>pixel2343</th>\n",
       "      <th>pixel2344</th>\n",
       "      <th>pixel2345</th>\n",
       "      <th>pixel2346</th>\n",
       "      <th>pixel2347</th>\n",
       "      <th>pixel2348</th>\n",
       "      <th>pixel2349</th>\n",
       "      <th>pixel2350</th>\n",
       "      <th>pixel2351</th>\n",
       "    </tr>\n",
       "  </thead>\n",
       "  <tbody>\n",
       "    <tr>\n",
       "      <th>0</th>\n",
       "      <td>192</td>\n",
       "      <td>153</td>\n",
       "      <td>193</td>\n",
       "      <td>195</td>\n",
       "      <td>155</td>\n",
       "      <td>192</td>\n",
       "      <td>197</td>\n",
       "      <td>154</td>\n",
       "      <td>185</td>\n",
       "      <td>202</td>\n",
       "      <td>...</td>\n",
       "      <td>134</td>\n",
       "      <td>173</td>\n",
       "      <td>124</td>\n",
       "      <td>138</td>\n",
       "      <td>183</td>\n",
       "      <td>147</td>\n",
       "      <td>166</td>\n",
       "      <td>185</td>\n",
       "      <td>154</td>\n",
       "      <td>177</td>\n",
       "    </tr>\n",
       "    <tr>\n",
       "      <th>1</th>\n",
       "      <td>25</td>\n",
       "      <td>14</td>\n",
       "      <td>30</td>\n",
       "      <td>68</td>\n",
       "      <td>48</td>\n",
       "      <td>75</td>\n",
       "      <td>123</td>\n",
       "      <td>93</td>\n",
       "      <td>126</td>\n",
       "      <td>158</td>\n",
       "      <td>...</td>\n",
       "      <td>82</td>\n",
       "      <td>60</td>\n",
       "      <td>39</td>\n",
       "      <td>55</td>\n",
       "      <td>25</td>\n",
       "      <td>14</td>\n",
       "      <td>28</td>\n",
       "      <td>25</td>\n",
       "      <td>14</td>\n",
       "      <td>27</td>\n",
       "    </tr>\n",
       "    <tr>\n",
       "      <th>2</th>\n",
       "      <td>192</td>\n",
       "      <td>138</td>\n",
       "      <td>153</td>\n",
       "      <td>200</td>\n",
       "      <td>145</td>\n",
       "      <td>163</td>\n",
       "      <td>201</td>\n",
       "      <td>142</td>\n",
       "      <td>160</td>\n",
       "      <td>206</td>\n",
       "      <td>...</td>\n",
       "      <td>149</td>\n",
       "      <td>167</td>\n",
       "      <td>129</td>\n",
       "      <td>143</td>\n",
       "      <td>159</td>\n",
       "      <td>124</td>\n",
       "      <td>142</td>\n",
       "      <td>136</td>\n",
       "      <td>104</td>\n",
       "      <td>117</td>\n",
       "    </tr>\n",
       "    <tr>\n",
       "      <th>3</th>\n",
       "      <td>38</td>\n",
       "      <td>19</td>\n",
       "      <td>30</td>\n",
       "      <td>95</td>\n",
       "      <td>59</td>\n",
       "      <td>72</td>\n",
       "      <td>143</td>\n",
       "      <td>103</td>\n",
       "      <td>119</td>\n",
       "      <td>171</td>\n",
       "      <td>...</td>\n",
       "      <td>73</td>\n",
       "      <td>44</td>\n",
       "      <td>26</td>\n",
       "      <td>36</td>\n",
       "      <td>25</td>\n",
       "      <td>12</td>\n",
       "      <td>17</td>\n",
       "      <td>25</td>\n",
       "      <td>12</td>\n",
       "      <td>15</td>\n",
       "    </tr>\n",
       "    <tr>\n",
       "      <th>4</th>\n",
       "      <td>158</td>\n",
       "      <td>113</td>\n",
       "      <td>139</td>\n",
       "      <td>194</td>\n",
       "      <td>144</td>\n",
       "      <td>174</td>\n",
       "      <td>215</td>\n",
       "      <td>162</td>\n",
       "      <td>191</td>\n",
       "      <td>225</td>\n",
       "      <td>...</td>\n",
       "      <td>201</td>\n",
       "      <td>209</td>\n",
       "      <td>166</td>\n",
       "      <td>185</td>\n",
       "      <td>172</td>\n",
       "      <td>135</td>\n",
       "      <td>149</td>\n",
       "      <td>109</td>\n",
       "      <td>78</td>\n",
       "      <td>92</td>\n",
       "    </tr>\n",
       "  </tbody>\n",
       "</table>\n",
       "<p>5 rows × 2352 columns</p>\n",
       "</div>"
      ],
      "text/plain": [
       "   pixel0000  pixel0001  pixel0002  pixel0003  pixel0004  pixel0005  \\\n",
       "0        192        153        193        195        155        192   \n",
       "1         25         14         30         68         48         75   \n",
       "2        192        138        153        200        145        163   \n",
       "3         38         19         30         95         59         72   \n",
       "4        158        113        139        194        144        174   \n",
       "\n",
       "   pixel0006  pixel0007  pixel0008  pixel0009  ...  pixel2342  pixel2343  \\\n",
       "0        197        154        185        202  ...        134        173   \n",
       "1        123         93        126        158  ...         82         60   \n",
       "2        201        142        160        206  ...        149        167   \n",
       "3        143        103        119        171  ...         73         44   \n",
       "4        215        162        191        225  ...        201        209   \n",
       "\n",
       "   pixel2344  pixel2345  pixel2346  pixel2347  pixel2348  pixel2349  \\\n",
       "0        124        138        183        147        166        185   \n",
       "1         39         55         25         14         28         25   \n",
       "2        129        143        159        124        142        136   \n",
       "3         26         36         25         12         17         25   \n",
       "4        166        185        172        135        149        109   \n",
       "\n",
       "   pixel2350  pixel2351  \n",
       "0        154        177  \n",
       "1         14         27  \n",
       "2        104        117  \n",
       "3         12         15  \n",
       "4         78         92  \n",
       "\n",
       "[5 rows x 2352 columns]"
      ]
     },
     "execution_count": 22,
     "metadata": {},
     "output_type": "execute_result"
    }
   ],
   "source": [
    "# 28x28RGB data\n",
    "df_hmnist_28_28_RGB = pd.read_csv('./Data/hmnist_28_28_RGB.csv/hmnist_28_28_RGB.csv')\n",
    "df_hmnist_28_28_RGB_Labels = np.asarray(df_hmnist_28_28_RGB['label'])\n",
    "df_hmnist_28_28_RGB = df_hmnist_28_28_RGB.drop('label',axis=1)\n",
    "df_hmnist_28_28_RGB.head()"
   ]
  },
  {
   "cell_type": "code",
   "execution_count": 31,
   "id": "db82a86e-15c5-4c09-8fd5-bafe1b120bce",
   "metadata": {},
   "outputs": [
    {
     "name": "stdout",
     "output_type": "stream",
     "text": [
      "28x28RGB Shape = (10015, 2352)\n"
     ]
    },
    {
     "name": "stderr",
     "output_type": "stream",
     "text": [
      "c:\\users\\andre\\appdata\\local\\programs\\python\\python38\\lib\\site-packages\\seaborn\\_decorators.py:36: FutureWarning: Pass the following variable as a keyword arg: x. From version 0.12, the only valid positional argument will be `data`, and passing other arguments without an explicit keyword will result in an error or misinterpretation.\n",
      "  warnings.warn(\n"
     ]
    },
    {
     "name": "stdout",
     "output_type": "stream",
     "text": [
      "(7010, 2352)\n",
      "X-train RGB type = <class 'numpy.ndarray'>\n",
      "X-train RGB shape = (7010, 28, 28, 3)\n",
      "X-test RGB type = <class 'numpy.ndarray'>\n",
      "X-test RGB shape = (3005, 28, 28, 3)\n",
      "X-train RGB type = <class 'tensorflow.python.framework.ops.EagerTensor'>\n",
      "X-test RGB type = <class 'tensorflow.python.framework.ops.EagerTensor'>\n",
      "(7010, 32, 32, 3)\n",
      "(3005, 32, 32, 3)\n",
      "(7010, 32, 32, 3)\n",
      "(3005, 32, 32, 3)\n",
      "train input shape = (32, 32, 3)\n"
     ]
    },
    {
     "data": {
      "image/png": "[encoded data removed]",
      "text/plain": [
       "<Figure size 432x288 with 1 Axes>"
      ]
     },
     "metadata": {
      "needs_background": "light"
     },
     "output_type": "display_data"
    }
   ],
   "source": [
    "print(\"28x28RGB Shape = \" + str(df_hmnist_28_28_RGB.shape))\n",
    "\n",
    "hmnist_28_28_RGB = np.asarray(df_hmnist_28_28_RGB)\n",
    "\n",
    "plt.figure(figsize=(6,4))\n",
    "sns.countplot(df_hmnist_28_28_RGB_Labels)\n",
    "\n",
    "# Grayscale 28x28\n",
    "X_train_RGB, X_test_RGB, y_train_RGB, y_test_RGB = train_test_split(hmnist_28_28_RGB, df_hmnist_28_28_RGB_Labels, test_size=0.30, random_state=101)\n",
    "\n",
    "print(str(X_train_RGB.shape))\n",
    "X_train_RGB = X_train_RGB.reshape(X_train_RGB.shape[0],28,28,3)\n",
    "print(\"X-train RGB type = \" + str(type(X_train_RGB)))\n",
    "\n",
    "print(\"X-train RGB shape = \" + str(X_train_RGB.shape))\n",
    "\n",
    "X_test_RGB = X_test_RGB.reshape(X_test_RGB.shape[0],28,28,3)\n",
    "print(\"X-test RGB type = \" + str(type(X_test_RGB)))\n",
    "print(\"X-test RGB shape = \" + str(X_test_RGB.shape))\n",
    "\n",
    "X_train_RGB = tf.convert_to_tensor(X_train_RGB, np.float64)\n",
    "print(\"X-train RGB type = \" + str(type(X_train_RGB)))\n",
    "\n",
    "X_test_RGB = tf.convert_to_tensor(X_test_RGB, np.float64)\n",
    "print(\"X-test RGB type = \" + str(type(X_test_RGB)))\n",
    "\n",
    "X_train_RGB = tf.pad(X_train_RGB, [[0, 0], [2,2],[2,2],[0,0]])/255\n",
    "X_test_RGB = tf.pad(X_test_RGB, [[0, 0], [2,2],[2,2],[0,0]])/255\n",
    "print(X_train_RGB.shape)\n",
    "print(X_test_RGB.shape)\n",
    "\n",
    "#X_train_RGB = tf.expand_dims(X_train_RGB, axis=3, name=None)\n",
    "#X_test_RGB = tf.expand_dims(X_test_RGB, axis=3, name=None)\n",
    "print(X_train_RGB.shape)\n",
    "print(X_test_RGB.shape)\n",
    "\n",
    "print(\"train input shape = \" + str(X_train_RGB.shape[1:]))"
   ]
  },
  {
   "cell_type": "code",
   "execution_count": 13,
   "id": "363c9334-7d5e-4d61-a101-e581ce29d4bf",
   "metadata": {},
   "outputs": [
    {
     "name": "stdout",
     "output_type": "stream",
     "text": [
      "(4000, 32, 32, 3)\n",
      "(1000, 32, 32, 3)\n"
     ]
    }
   ],
   "source": [
    "####### Reading the original Part 1 Images #########\n",
    "imagesPart1 = pd.read_csv('./Data/imagesPart1.csv',header=None)\n",
    "imagesPart1 = np.asarray(imagesPart1)\n",
    "imagesPart1Labels = pd.read_csv('./Data/HAM10000_metadata_labels_part1.csv')\n",
    "imagesPart1Labels = np.asarray(imagesPart1Labels['dx'])\n",
    "X_train_part1, X_test_part1, y_train_part1, y_test_part1 = train_test_split(imagesPart1, imagesPart1Labels, stratify=imagesPart1Labels, test_size=0.20, random_state=101)\n",
    "\n",
    "X_train_part1.shape\n",
    "\n",
    "X_train_part1 = X_train_part1.reshape(X_train_part1.shape[0],28,28,3)\n",
    "X_train_part1.shape\n",
    "\n",
    "X_test_part1.shape\n",
    "\n",
    "X_test_part1 = X_test_part1.reshape(X_test_part1.shape[0],28,28,3)\n",
    "X_test_part1.shape\n",
    "\n",
    "X_train_part1 = tf.convert_to_tensor(X_train_part1, np.float64)\n",
    "type(X_train_part1)\n",
    "\n",
    "X_test_part1 = tf.convert_to_tensor(X_test_part1, np.float64)\n",
    "type(X_test_part1)\n",
    "\n",
    "X_train_part1 = tf.pad(X_train_part1, [[0, 0], [2,2],[2,2],[0,0]])/255\n",
    "X_test_part1 = tf.pad(X_test_part1, [[0, 0], [2,2],[2,2],[0,0]])/255\n",
    "\n",
    "print(X_train_part1.shape)\n",
    "print(X_test_part1.shape)"
   ]
  },
  {
   "cell_type": "code",
   "execution_count": 3,
   "id": "e3e897fe-8ab9-4068-b607-6067c6ebb72f",
   "metadata": {},
   "outputs": [
    {
     "name": "stdout",
     "output_type": "stream",
     "text": [
      "shape = (5000, 2352)\n",
      "0 count =  0\n",
      "1 count =  514\n",
      "2 count =  1095\n",
      "3 count =  115\n",
      "4 count =  2025\n",
      "5 count =  142\n",
      "6 count =  1109\n",
      "X-train-augPart1 shape = (4000, 2352)\n",
      "X-train-augPart1 shape = (4000, 28, 28, 3)\n",
      "X-test-augPart1 shape = (1000, 28, 28, 3)\n",
      "X-train-augPart1 type = <class 'tensorflow.python.framework.ops.EagerTensor'>\n",
      "X-test-augPart1 shape = <class 'tensorflow.python.framework.ops.EagerTensor'>\n",
      "(4000, 32, 32, 3)\n",
      "(1000, 32, 32, 3)\n"
     ]
    }
   ],
   "source": [
    "#### Read augmented images array Part 1 ####\n",
    "df_AugImagesPart1 = pd.read_csv('./Data/augImagesPart1.csv',header=None)\n",
    "\n",
    "df_AugImagesPart1_Labels = pd.read_csv('./Data/augImagesPart1_Labels.csv')\n",
    "df_AugImagesPart1_Labels = np.asarray(df_AugImagesPart1_Labels['dx'])\n",
    "\n",
    "df_AugImagesPart1 = np.asarray(df_AugImagesPart1)\n",
    "print(\"shape = \" + str(df_AugImagesPart1.shape))\n",
    "\n",
    "X_train_augPart1, X_test_augPart1, y_train_augPart1, y_test_augPart1 = train_test_split(df_AugImagesPart1, df_AugImagesPart1_Labels, stratify=df_AugImagesPart1_Labels,\n",
    "                                                                                        test_size=0.20, random_state=101)\n",
    "\n",
    "temp = np.asarray(df_AugImagesPart1_Labels)\n",
    "print(\"0 count = \", (temp == 0).sum())\n",
    "print(\"1 count = \", (temp == 1).sum())\n",
    "print(\"2 count = \", (temp == 2).sum())\n",
    "print(\"3 count = \", (temp == 3).sum())\n",
    "print(\"4 count = \", (temp == 4).sum())\n",
    "print(\"5 count = \", (temp == 5).sum())\n",
    "print(\"6 count = \", (temp == 6).sum())\n",
    "\n",
    "print(\"X-train-augPart1 shape = \" + str(X_train_augPart1.shape))\n",
    "X_train_augPart1 = X_train_augPart1.reshape(X_train_augPart1.shape[0],28,28,3)\n",
    "print(\"X-train-augPart1 shape = \" + str(X_train_augPart1.shape))\n",
    "\n",
    "X_test_augPart1 = X_test_augPart1.reshape(X_test_augPart1.shape[0],28,28,3)\n",
    "print(\"X-test-augPart1 shape = \" + str(X_test_augPart1.shape))\n",
    "\n",
    "X_train_augPart1 = tf.convert_to_tensor(X_train_augPart1, np.float64)\n",
    "print(\"X-train-augPart1 type = \" + str(type(X_train_augPart1)))\n",
    "\n",
    "X_test_augPart1 = tf.convert_to_tensor(X_test_augPart1, np.float64)\n",
    "print(\"X-test-augPart1 shape = \" + str(type(X_test_augPart1)))\n",
    "\n",
    "X_train_augPart1 = tf.pad(X_train_augPart1, [[0, 0], [2,2],[2,2],[0,0]])/255\n",
    "X_test_augPart1 = tf.pad(X_test_augPart1, [[0, 0], [2,2],[2,2],[0,0]])/255\n",
    "\n",
    "print(X_train_augPart1.shape)\n",
    "print(X_test_augPart1.shape)"
   ]
  },
  {
   "cell_type": "code",
   "execution_count": 4,
   "id": "44b4b19c-dcc9-4dee-88b5-16cb876d9a1c",
   "metadata": {},
   "outputs": [
    {
     "name": "stdout",
     "output_type": "stream",
     "text": [
      "Model: \"sequential\"\n",
      "_________________________________________________________________\n",
      "Layer (type)                 Output Shape              Param #   \n",
      "=================================================================\n",
      "conv2d (Conv2D)              (None, 28, 28, 6)         456       \n",
      "_________________________________________________________________\n",
      "average_pooling2d (AveragePo (None, 14, 14, 6)         0         \n",
      "_________________________________________________________________\n",
      "activation (Activation)      (None, 14, 14, 6)         0         \n",
      "_________________________________________________________________\n",
      "conv2d_1 (Conv2D)            (None, 10, 10, 16)        2416      \n",
      "_________________________________________________________________\n",
      "average_pooling2d_1 (Average (None, 5, 5, 16)          0         \n",
      "_________________________________________________________________\n",
      "activation_1 (Activation)    (None, 5, 5, 16)          0         \n",
      "_________________________________________________________________\n",
      "conv2d_2 (Conv2D)            (None, 1, 1, 120)         48120     \n",
      "_________________________________________________________________\n",
      "flatten (Flatten)            (None, 120)               0         \n",
      "_________________________________________________________________\n",
      "dense (Dense)                (None, 84)                10164     \n",
      "_________________________________________________________________\n",
      "dense_1 (Dense)              (None, 7)                 595       \n",
      "=================================================================\n",
      "Total params: 61,751\n",
      "Trainable params: 61,751\n",
      "Non-trainable params: 0\n",
      "_________________________________________________________________\n"
     ]
    }
   ],
   "source": [
    "# leNet incorporates 3 convolutional layers\n",
    "model = Sequential()\n",
    "model.add(Conv2D(6, 5, activation='tanh', input_shape=X_train_augPart1.shape[1:]))\n",
    "model.add(AveragePooling2D(2))\n",
    "model.add(Activation('sigmoid'))\n",
    "model.add(Conv2D(16, 5, activation='tanh'))\n",
    "model.add(AveragePooling2D(2))\n",
    "model.add(Activation('sigmoid'))\n",
    "model.add(Conv2D(120, 5, activation='tanh'))\n",
    "model.add(Flatten())\n",
    "model.add(Dense(84, activation='tanh'))\n",
    "model.add(Dense(7, activation='softmax'))\n",
    "model.summary()"
   ]
  },
  {
   "cell_type": "code",
   "execution_count": 5,
   "id": "a0228e89-1726-4d06-b45c-6cd228939b3c",
   "metadata": {},
   "outputs": [
    {
     "name": "stdout",
     "output_type": "stream",
     "text": [
      "Epoch 1/180\n",
      "89/89 [==============================] - 3s 21ms/step - loss: 1.4939 - accuracy: 0.3960\n",
      "Epoch 2/180\n",
      "89/89 [==============================] - 2s 20ms/step - loss: 1.4660 - accuracy: 0.4050\n",
      "Epoch 3/180\n",
      "89/89 [==============================] - 2s 20ms/step - loss: 1.4646 - accuracy: 0.4050\n",
      "Epoch 4/180\n",
      "89/89 [==============================] - 2s 19ms/step - loss: 1.4641 - accuracy: 0.4050\n",
      "Epoch 5/180\n",
      "89/89 [==============================] - 2s 20ms/step - loss: 1.4611 - accuracy: 0.4050\n",
      "Epoch 6/180\n",
      "89/89 [==============================] - 2s 20ms/step - loss: 1.4596 - accuracy: 0.4050\n",
      "Epoch 7/180\n",
      "89/89 [==============================] - 2s 21ms/step - loss: 1.4609 - accuracy: 0.4050\n",
      "Epoch 8/180\n",
      "89/89 [==============================] - 2s 21ms/step - loss: 1.4630 - accuracy: 0.4050\n",
      "Epoch 9/180\n",
      "89/89 [==============================] - 2s 20ms/step - loss: 1.4607 - accuracy: 0.4050\n",
      "Epoch 10/180\n",
      "89/89 [==============================] - 2s 19ms/step - loss: 1.4615 - accuracy: 0.4050\n",
      "Epoch 11/180\n",
      "89/89 [==============================] - 2s 19ms/step - loss: 1.4607 - accuracy: 0.4050\n",
      "Epoch 12/180\n",
      "89/89 [==============================] - 2s 19ms/step - loss: 1.4635 - accuracy: 0.4050\n",
      "Epoch 13/180\n",
      "89/89 [==============================] - 2s 23ms/step - loss: 1.4608 - accuracy: 0.4050\n",
      "Epoch 14/180\n",
      "89/89 [==============================] - 2s 20ms/step - loss: 1.4610 - accuracy: 0.4050\n",
      "Epoch 15/180\n",
      "89/89 [==============================] - 2s 19ms/step - loss: 1.4607 - accuracy: 0.4050\n",
      "Epoch 16/180\n",
      "89/89 [==============================] - 2s 20ms/step - loss: 1.4624 - accuracy: 0.4050\n",
      "Epoch 17/180\n",
      "89/89 [==============================] - 2s 20ms/step - loss: 1.4611 - accuracy: 0.4050\n",
      "Epoch 18/180\n",
      "89/89 [==============================] - 2s 22ms/step - loss: 1.4645 - accuracy: 0.4050\n",
      "Epoch 19/180\n",
      "89/89 [==============================] - 2s 20ms/step - loss: 1.4652 - accuracy: 0.4050\n",
      "Epoch 20/180\n",
      "89/89 [==============================] - 2s 20ms/step - loss: 1.4606 - accuracy: 0.4050\n",
      "Epoch 21/180\n",
      "89/89 [==============================] - 2s 20ms/step - loss: 1.4600 - accuracy: 0.4050\n",
      "Epoch 22/180\n",
      "89/89 [==============================] - 2s 20ms/step - loss: 1.4600 - accuracy: 0.4050\n",
      "Epoch 23/180\n",
      "89/89 [==============================] - 2s 20ms/step - loss: 1.4616 - accuracy: 0.4050\n",
      "Epoch 24/180\n",
      "89/89 [==============================] - 2s 19ms/step - loss: 1.4630 - accuracy: 0.4050\n",
      "Epoch 25/180\n",
      "89/89 [==============================] - 2s 20ms/step - loss: 1.4607 - accuracy: 0.4050\n",
      "Epoch 26/180\n",
      "89/89 [==============================] - 2s 19ms/step - loss: 1.4607 - accuracy: 0.4050\n",
      "Epoch 27/180\n",
      "89/89 [==============================] - 2s 20ms/step - loss: 1.4620 - accuracy: 0.4050\n",
      "Epoch 28/180\n",
      "89/89 [==============================] - 2s 20ms/step - loss: 1.4600 - accuracy: 0.4050\n",
      "Epoch 29/180\n",
      "89/89 [==============================] - 2s 20ms/step - loss: 1.4619 - accuracy: 0.4050\n",
      "Epoch 30/180\n",
      "89/89 [==============================] - 2s 21ms/step - loss: 1.4599 - accuracy: 0.4050\n",
      "Epoch 31/180\n",
      "89/89 [==============================] - 2s 22ms/step - loss: 1.4440 - accuracy: 0.4078\n",
      "Epoch 32/180\n",
      "89/89 [==============================] - 2s 21ms/step - loss: 1.3923 - accuracy: 0.4168\n",
      "Epoch 33/180\n",
      "89/89 [==============================] - 2s 20ms/step - loss: 1.3629 - accuracy: 0.4283\n",
      "Epoch 34/180\n",
      "89/89 [==============================] - 2s 20ms/step - loss: 1.3559 - accuracy: 0.4333\n",
      "Epoch 35/180\n",
      "89/89 [==============================] - 2s 20ms/step - loss: 1.3425 - accuracy: 0.4310\n",
      "Epoch 36/180\n",
      "89/89 [==============================] - 2s 20ms/step - loss: 1.3346 - accuracy: 0.4358\n",
      "Epoch 37/180\n",
      "89/89 [==============================] - 2s 20ms/step - loss: 1.3288 - accuracy: 0.4383\n",
      "Epoch 38/180\n",
      "89/89 [==============================] - 2s 20ms/step - loss: 1.3322 - accuracy: 0.4338\n",
      "Epoch 39/180\n",
      "89/89 [==============================] - 2s 20ms/step - loss: 1.3244 - accuracy: 0.4372\n",
      "Epoch 40/180\n",
      "89/89 [==============================] - 2s 20ms/step - loss: 1.3264 - accuracy: 0.4355\n",
      "Epoch 41/180\n",
      "89/89 [==============================] - 2s 21ms/step - loss: 1.3429 - accuracy: 0.4302\n",
      "Epoch 42/180\n",
      "89/89 [==============================] - 2s 21ms/step - loss: 1.3236 - accuracy: 0.4372\n",
      "Epoch 43/180\n",
      "89/89 [==============================] - 2s 20ms/step - loss: 1.3105 - accuracy: 0.4423\n",
      "Epoch 44/180\n",
      "89/89 [==============================] - 2s 21ms/step - loss: 1.3164 - accuracy: 0.4358\n",
      "Epoch 45/180\n",
      "89/89 [==============================] - 2s 22ms/step - loss: 1.3037 - accuracy: 0.4457\n",
      "Epoch 46/180\n",
      "89/89 [==============================] - 2s 23ms/step - loss: 1.3126 - accuracy: 0.4397\n",
      "Epoch 47/180\n",
      "89/89 [==============================] - 2s 21ms/step - loss: 1.3143 - accuracy: 0.4430\n",
      "Epoch 48/180\n",
      "89/89 [==============================] - 2s 20ms/step - loss: 1.3102 - accuracy: 0.4420\n",
      "Epoch 49/180\n",
      "89/89 [==============================] - 2s 20ms/step - loss: 1.3301 - accuracy: 0.4420\n",
      "Epoch 50/180\n",
      "89/89 [==============================] - 2s 20ms/step - loss: 1.3055 - accuracy: 0.4470\n",
      "Epoch 51/180\n",
      "89/89 [==============================] - 2s 20ms/step - loss: 1.2946 - accuracy: 0.4487\n",
      "Epoch 52/180\n",
      "89/89 [==============================] - 2s 20ms/step - loss: 1.2953 - accuracy: 0.4462\n",
      "Epoch 53/180\n",
      "89/89 [==============================] - 2s 19ms/step - loss: 1.2879 - accuracy: 0.4572\n",
      "Epoch 54/180\n",
      "89/89 [==============================] - 2s 21ms/step - loss: 1.2832 - accuracy: 0.4570\n",
      "Epoch 55/180\n",
      "89/89 [==============================] - 2s 20ms/step - loss: 1.2790 - accuracy: 0.4593\n",
      "Epoch 56/180\n",
      "89/89 [==============================] - 2s 21ms/step - loss: 1.2671 - accuracy: 0.4683\n",
      "Epoch 57/180\n",
      "89/89 [==============================] - 2s 20ms/step - loss: 1.2720 - accuracy: 0.4780\n",
      "Epoch 58/180\n",
      "89/89 [==============================] - 2s 20ms/step - loss: 1.2618 - accuracy: 0.4712\n",
      "Epoch 59/180\n",
      "89/89 [==============================] - 2s 20ms/step - loss: 1.2632 - accuracy: 0.4748\n",
      "Epoch 60/180\n",
      "89/89 [==============================] - 2s 20ms/step - loss: 1.2669 - accuracy: 0.4742\n",
      "Epoch 61/180\n",
      "89/89 [==============================] - 2s 20ms/step - loss: 1.2455 - accuracy: 0.4778\n",
      "Epoch 62/180\n",
      "89/89 [==============================] - 2s 20ms/step - loss: 1.2554 - accuracy: 0.4825\n",
      "Epoch 63/180\n",
      "89/89 [==============================] - 2s 21ms/step - loss: 1.2471 - accuracy: 0.4782\n",
      "Epoch 64/180\n",
      "89/89 [==============================] - 2s 20ms/step - loss: 1.2322 - accuracy: 0.4902\n",
      "Epoch 65/180\n",
      "89/89 [==============================] - 2s 20ms/step - loss: 1.2346 - accuracy: 0.4855\n",
      "Epoch 66/180\n",
      "89/89 [==============================] - 2s 21ms/step - loss: 1.2242 - accuracy: 0.4908\n",
      "Epoch 67/180\n",
      "89/89 [==============================] - 2s 20ms/step - loss: 1.2268 - accuracy: 0.4835\n",
      "Epoch 68/180\n",
      "89/89 [==============================] - 2s 20ms/step - loss: 1.2514 - accuracy: 0.4825\n",
      "Epoch 69/180\n",
      "89/89 [==============================] - 2s 20ms/step - loss: 1.2112 - accuracy: 0.4915\n",
      "Epoch 70/180\n",
      "89/89 [==============================] - 2s 20ms/step - loss: 1.2070 - accuracy: 0.5033\n",
      "Epoch 71/180\n",
      "89/89 [==============================] - 2s 20ms/step - loss: 1.2040 - accuracy: 0.5000\n",
      "Epoch 72/180\n",
      "89/89 [==============================] - 2s 20ms/step - loss: 1.2089 - accuracy: 0.5000\n",
      "Epoch 73/180\n",
      "89/89 [==============================] - 2s 20ms/step - loss: 1.1958 - accuracy: 0.5063\n",
      "Epoch 74/180\n",
      "89/89 [==============================] - 2s 23ms/step - loss: 1.1879 - accuracy: 0.5080\n",
      "Epoch 75/180\n",
      "89/89 [==============================] - 2s 21ms/step - loss: 1.2014 - accuracy: 0.5040\n",
      "Epoch 76/180\n",
      "89/89 [==============================] - 2s 21ms/step - loss: 1.1936 - accuracy: 0.5060\n",
      "Epoch 77/180\n",
      "89/89 [==============================] - 2s 19ms/step - loss: 1.1756 - accuracy: 0.5125\n",
      "Epoch 78/180\n",
      "89/89 [==============================] - 2s 20ms/step - loss: 1.1743 - accuracy: 0.5173\n",
      "Epoch 79/180\n",
      "89/89 [==============================] - 2s 23ms/step - loss: 1.1589 - accuracy: 0.5215\n",
      "Epoch 80/180\n",
      "89/89 [==============================] - 2s 19ms/step - loss: 1.1636 - accuracy: 0.5230\n",
      "Epoch 81/180\n",
      "89/89 [==============================] - 2s 19ms/step - loss: 1.1585 - accuracy: 0.5293\n",
      "Epoch 82/180\n",
      "89/89 [==============================] - 2s 19ms/step - loss: 1.1554 - accuracy: 0.5278\n",
      "Epoch 83/180\n",
      "89/89 [==============================] - 2s 19ms/step - loss: 1.1431 - accuracy: 0.5325\n",
      "Epoch 84/180\n",
      "89/89 [==============================] - 2s 20ms/step - loss: 1.1439 - accuracy: 0.5320\n",
      "Epoch 85/180\n",
      "89/89 [==============================] - 2s 19ms/step - loss: 1.1335 - accuracy: 0.5387\n",
      "Epoch 86/180\n",
      "89/89 [==============================] - 2s 21ms/step - loss: 1.1212 - accuracy: 0.5502\n",
      "Epoch 87/180\n",
      "89/89 [==============================] - 2s 19ms/step - loss: 1.1355 - accuracy: 0.5378\n",
      "Epoch 88/180\n",
      "89/89 [==============================] - 2s 19ms/step - loss: 1.1187 - accuracy: 0.5472\n",
      "Epoch 89/180\n",
      "89/89 [==============================] - 2s 19ms/step - loss: 1.1168 - accuracy: 0.5420\n",
      "Epoch 90/180\n",
      "89/89 [==============================] - 2s 20ms/step - loss: 1.1108 - accuracy: 0.5533\n",
      "Epoch 91/180\n",
      "89/89 [==============================] - 2s 20ms/step - loss: 1.1027 - accuracy: 0.5555\n",
      "Epoch 92/180\n",
      "89/89 [==============================] - 2s 20ms/step - loss: 1.0851 - accuracy: 0.5673\n",
      "Epoch 93/180\n",
      "89/89 [==============================] - 2s 19ms/step - loss: 1.0871 - accuracy: 0.5633\n",
      "Epoch 94/180\n",
      "89/89 [==============================] - 2s 19ms/step - loss: 1.0937 - accuracy: 0.5608\n",
      "Epoch 95/180\n",
      "89/89 [==============================] - 2s 19ms/step - loss: 1.0905 - accuracy: 0.5648\n",
      "Epoch 96/180\n",
      "89/89 [==============================] - 2s 19ms/step - loss: 1.0882 - accuracy: 0.5610\n",
      "Epoch 97/180\n",
      "89/89 [==============================] - 2s 21ms/step - loss: 1.0808 - accuracy: 0.5552\n",
      "Epoch 98/180\n",
      "89/89 [==============================] - 2s 19ms/step - loss: 1.0686 - accuracy: 0.5723\n",
      "Epoch 99/180\n",
      "89/89 [==============================] - 2s 20ms/step - loss: 1.0610 - accuracy: 0.5740\n",
      "Epoch 100/180\n",
      "89/89 [==============================] - 2s 21ms/step - loss: 1.0500 - accuracy: 0.5792\n",
      "Epoch 101/180\n",
      "89/89 [==============================] - 2s 19ms/step - loss: 1.0727 - accuracy: 0.5715\n",
      "Epoch 102/180\n",
      "89/89 [==============================] - 2s 19ms/step - loss: 1.0530 - accuracy: 0.5800\n",
      "Epoch 103/180\n",
      "89/89 [==============================] - 2s 19ms/step - loss: 1.0480 - accuracy: 0.5817\n",
      "Epoch 104/180\n",
      "89/89 [==============================] - 2s 21ms/step - loss: 1.0578 - accuracy: 0.5720\n",
      "Epoch 105/180\n",
      "89/89 [==============================] - 2s 21ms/step - loss: 1.0721 - accuracy: 0.5638\n",
      "Epoch 106/180\n",
      "89/89 [==============================] - 2s 21ms/step - loss: 1.0393 - accuracy: 0.5810\n",
      "Epoch 107/180\n",
      "89/89 [==============================] - 2s 20ms/step - loss: 1.0425 - accuracy: 0.5842\n",
      "Epoch 108/180\n",
      "89/89 [==============================] - 2s 20ms/step - loss: 1.0273 - accuracy: 0.5955\n",
      "Epoch 109/180\n",
      "89/89 [==============================] - 2s 21ms/step - loss: 1.0334 - accuracy: 0.5845\n",
      "Epoch 110/180\n",
      "89/89 [==============================] - 2s 20ms/step - loss: 1.0180 - accuracy: 0.5953\n",
      "Epoch 111/180\n",
      "89/89 [==============================] - 2s 20ms/step - loss: 1.0073 - accuracy: 0.6018\n",
      "Epoch 112/180\n",
      "89/89 [==============================] - 2s 20ms/step - loss: 1.0156 - accuracy: 0.5880\n",
      "Epoch 113/180\n",
      "89/89 [==============================] - 2s 24ms/step - loss: 1.0242 - accuracy: 0.5900\n",
      "Epoch 114/180\n",
      "89/89 [==============================] - 2s 20ms/step - loss: 1.0108 - accuracy: 0.5997\n",
      "Epoch 115/180\n",
      "89/89 [==============================] - 2s 20ms/step - loss: 1.0150 - accuracy: 0.5970\n",
      "Epoch 116/180\n",
      "89/89 [==============================] - 2s 20ms/step - loss: 0.9913 - accuracy: 0.6115\n",
      "Epoch 117/180\n",
      "89/89 [==============================] - 2s 19ms/step - loss: 1.0095 - accuracy: 0.5960\n",
      "Epoch 118/180\n",
      "89/89 [==============================] - 2s 20ms/step - loss: 0.9899 - accuracy: 0.6055\n",
      "Epoch 119/180\n",
      "89/89 [==============================] - 2s 20ms/step - loss: 0.9867 - accuracy: 0.6140\n",
      "Epoch 120/180\n",
      "89/89 [==============================] - 2s 22ms/step - loss: 0.9731 - accuracy: 0.6195\n",
      "Epoch 121/180\n",
      "89/89 [==============================] - 2s 19ms/step - loss: 0.9840 - accuracy: 0.6040\n",
      "Epoch 122/180\n",
      "89/89 [==============================] - 2s 19ms/step - loss: 0.9660 - accuracy: 0.6215\n",
      "Epoch 123/180\n",
      "89/89 [==============================] - 2s 20ms/step - loss: 0.9894 - accuracy: 0.6070\n",
      "Epoch 124/180\n",
      "89/89 [==============================] - 2s 20ms/step - loss: 0.9604 - accuracy: 0.6158\n",
      "Epoch 125/180\n",
      "89/89 [==============================] - 2s 20ms/step - loss: 0.9477 - accuracy: 0.6313\n",
      "Epoch 126/180\n",
      "89/89 [==============================] - 2s 20ms/step - loss: 0.9594 - accuracy: 0.6240\n",
      "Epoch 127/180\n",
      "89/89 [==============================] - 2s 21ms/step - loss: 0.9601 - accuracy: 0.6175\n",
      "Epoch 128/180\n",
      "89/89 [==============================] - 2s 21ms/step - loss: 0.9652 - accuracy: 0.6195\n",
      "Epoch 129/180\n",
      "89/89 [==============================] - 2s 20ms/step - loss: 0.9559 - accuracy: 0.6205\n",
      "Epoch 130/180\n",
      "89/89 [==============================] - 2s 20ms/step - loss: 0.9462 - accuracy: 0.6277\n",
      "Epoch 131/180\n",
      "89/89 [==============================] - 2s 20ms/step - loss: 0.9368 - accuracy: 0.6313\n",
      "Epoch 132/180\n",
      "89/89 [==============================] - 2s 22ms/step - loss: 0.9236 - accuracy: 0.6425\n",
      "Epoch 133/180\n",
      "89/89 [==============================] - 2s 20ms/step - loss: 0.9249 - accuracy: 0.6332\n",
      "Epoch 134/180\n",
      "89/89 [==============================] - 2s 21ms/step - loss: 0.9508 - accuracy: 0.6217\n",
      "Epoch 135/180\n",
      "89/89 [==============================] - 2s 20ms/step - loss: 0.9252 - accuracy: 0.6380\n",
      "Epoch 136/180\n",
      "89/89 [==============================] - 2s 19ms/step - loss: 0.9352 - accuracy: 0.6270\n",
      "Epoch 137/180\n",
      "89/89 [==============================] - 2s 19ms/step - loss: 0.9334 - accuracy: 0.6323\n",
      "Epoch 138/180\n",
      "89/89 [==============================] - 2s 20ms/step - loss: 0.9351 - accuracy: 0.6305\n",
      "Epoch 139/180\n",
      "89/89 [==============================] - 2s 20ms/step - loss: 0.9148 - accuracy: 0.6423\n",
      "Epoch 140/180\n",
      "89/89 [==============================] - 2s 19ms/step - loss: 0.9310 - accuracy: 0.6313\n",
      "Epoch 141/180\n",
      "89/89 [==============================] - 2s 21ms/step - loss: 0.9135 - accuracy: 0.6438\n",
      "Epoch 142/180\n",
      "89/89 [==============================] - 2s 21ms/step - loss: 0.9196 - accuracy: 0.6413\n",
      "Epoch 143/180\n",
      "89/89 [==============================] - 2s 22ms/step - loss: 0.9055 - accuracy: 0.6505\n",
      "Epoch 144/180\n",
      "89/89 [==============================] - 2s 20ms/step - loss: 0.9185 - accuracy: 0.6425\n",
      "Epoch 145/180\n",
      "89/89 [==============================] - 2s 20ms/step - loss: 0.9192 - accuracy: 0.6432\n",
      "Epoch 146/180\n",
      "89/89 [==============================] - 2s 22ms/step - loss: 0.8923 - accuracy: 0.6530\n",
      "Epoch 147/180\n",
      "89/89 [==============================] - 2s 22ms/step - loss: 0.9040 - accuracy: 0.6505\n",
      "Epoch 148/180\n",
      "89/89 [==============================] - 2s 20ms/step - loss: 0.8951 - accuracy: 0.6530\n",
      "Epoch 149/180\n",
      "89/89 [==============================] - 2s 21ms/step - loss: 0.8932 - accuracy: 0.6480\n",
      "Epoch 150/180\n",
      "89/89 [==============================] - 2s 20ms/step - loss: 0.8962 - accuracy: 0.6513\n",
      "Epoch 151/180\n",
      "89/89 [==============================] - 2s 19ms/step - loss: 0.8984 - accuracy: 0.6535\n",
      "Epoch 152/180\n",
      "89/89 [==============================] - 2s 20ms/step - loss: 0.8968 - accuracy: 0.6525\n",
      "Epoch 153/180\n",
      "89/89 [==============================] - 2s 21ms/step - loss: 0.8961 - accuracy: 0.6545\n",
      "Epoch 154/180\n",
      "89/89 [==============================] - 2s 22ms/step - loss: 0.8748 - accuracy: 0.6605\n",
      "Epoch 155/180\n",
      "89/89 [==============================] - 2s 20ms/step - loss: 0.9027 - accuracy: 0.6485 0s - loss: 0.9190 - accu\n",
      "Epoch 156/180\n",
      "89/89 [==============================] - 2s 20ms/step - loss: 0.8888 - accuracy: 0.6535\n",
      "Epoch 157/180\n",
      "89/89 [==============================] - 2s 20ms/step - loss: 0.8735 - accuracy: 0.6618\n",
      "Epoch 158/180\n",
      "89/89 [==============================] - 2s 20ms/step - loss: 0.8931 - accuracy: 0.6562\n",
      "Epoch 159/180\n",
      "89/89 [==============================] - 2s 20ms/step - loss: 0.8806 - accuracy: 0.6587\n",
      "Epoch 160/180\n",
      "89/89 [==============================] - 2s 20ms/step - loss: 0.8613 - accuracy: 0.6700\n",
      "Epoch 161/180\n",
      "89/89 [==============================] - 2s 20ms/step - loss: 0.8715 - accuracy: 0.6625\n",
      "Epoch 162/180\n",
      "89/89 [==============================] - 2s 20ms/step - loss: 0.8620 - accuracy: 0.6633\n",
      "Epoch 163/180\n",
      "89/89 [==============================] - 2s 21ms/step - loss: 0.8667 - accuracy: 0.6625\n",
      "Epoch 164/180\n",
      "89/89 [==============================] - 2s 21ms/step - loss: 0.8592 - accuracy: 0.6697\n",
      "Epoch 165/180\n",
      "89/89 [==============================] - 2s 22ms/step - loss: 0.8489 - accuracy: 0.6733\n",
      "Epoch 166/180\n",
      "89/89 [==============================] - 2s 20ms/step - loss: 0.8578 - accuracy: 0.6635\n",
      "Epoch 167/180\n",
      "89/89 [==============================] - 2s 20ms/step - loss: 0.8422 - accuracy: 0.6718\n",
      "Epoch 168/180\n",
      "89/89 [==============================] - 2s 21ms/step - loss: 0.8445 - accuracy: 0.6777\n",
      "Epoch 169/180\n",
      "89/89 [==============================] - 2s 21ms/step - loss: 0.8572 - accuracy: 0.6687\n",
      "Epoch 170/180\n",
      "89/89 [==============================] - 2s 21ms/step - loss: 0.8375 - accuracy: 0.6712\n",
      "Epoch 171/180\n",
      "89/89 [==============================] - 2s 20ms/step - loss: 0.8404 - accuracy: 0.6798\n",
      "Epoch 172/180\n",
      "89/89 [==============================] - 2s 22ms/step - loss: 0.8524 - accuracy: 0.6695\n",
      "Epoch 173/180\n",
      "89/89 [==============================] - 2s 22ms/step - loss: 0.8620 - accuracy: 0.6645\n",
      "Epoch 174/180\n",
      "89/89 [==============================] - 2s 21ms/step - loss: 0.8440 - accuracy: 0.6687\n",
      "Epoch 175/180\n",
      "89/89 [==============================] - 2s 23ms/step - loss: 0.8286 - accuracy: 0.6815\n",
      "Epoch 176/180\n",
      "89/89 [==============================] - 2s 20ms/step - loss: 0.8342 - accuracy: 0.6750\n",
      "Epoch 177/180\n",
      "89/89 [==============================] - 2s 21ms/step - loss: 0.8439 - accuracy: 0.6755\n",
      "Epoch 178/180\n",
      "89/89 [==============================] - 2s 20ms/step - loss: 0.8453 - accuracy: 0.6775\n",
      "Epoch 179/180\n",
      "89/89 [==============================] - 2s 24ms/step - loss: 0.8175 - accuracy: 0.6860\n",
      "Epoch 180/180\n",
      "89/89 [==============================] - 2s 20ms/step - loss: 0.8406 - accuracy: 0.6743\n"
     ]
    }
   ],
   "source": [
    "model.compile(optimizer='adam', loss=losses.sparse_categorical_crossentropy, metrics=['accuracy'])\n",
    "history = model.fit(X_train_augPart1, y_train_augPart1, batch_size=45, epochs=180)"
   ]
  },
  {
   "cell_type": "code",
   "execution_count": 68,
   "id": "fe36e3e1-328c-4dec-8ace-3507c88a0157",
   "metadata": {},
   "outputs": [
    {
     "name": "stdout",
     "output_type": "stream",
     "text": [
      "94/94 [==============================] - 0s 4ms/step - loss: 0.7970 - accuracy: 0.7128\n"
     ]
    },
    {
     "data": {
      "text/plain": [
       "[0.7969779372215271, 0.7128120064735413]"
      ]
     },
     "execution_count": 68,
     "metadata": {},
     "output_type": "execute_result"
    }
   ],
   "source": [
    "model.evaluate(X_test_RGB, y_test_RGB)"
   ]
  },
  {
   "cell_type": "code",
   "execution_count": 6,
   "id": "3f56a1fa-400a-416a-a8b8-793cbe5e0da3",
   "metadata": {},
   "outputs": [
    {
     "name": "stdout",
     "output_type": "stream",
     "text": [
      "32/32 [==============================] - 1s 7ms/step - loss: 0.9131 - accuracy: 0.6640\n"
     ]
    },
    {
     "data": {
      "text/plain": [
       "[0.913114607334137, 0.6639999747276306]"
      ]
     },
     "execution_count": 6,
     "metadata": {},
     "output_type": "execute_result"
    }
   ],
   "source": [
    "model.evaluate(X_test_augPart1, y_test_augPart1)"
   ]
  },
  {
   "cell_type": "code",
   "execution_count": 74,
   "id": "851aaace-fd3e-46ca-871f-cb9e65c64229",
   "metadata": {},
   "outputs": [
    {
     "data": {
      "text/plain": [
       "<keras.callbacks.History at 0x1a6832e6400>"
      ]
     },
     "execution_count": 74,
     "metadata": {},
     "output_type": "execute_result"
    }
   ],
   "source": [
    "history"
   ]
  },
  {
   "cell_type": "code",
   "execution_count": 25,
   "id": "72c67c0d-7f33-423a-96d0-10d5f24da4a4",
   "metadata": {},
   "outputs": [
    {
     "data": {
      "text/plain": [
       "<AxesSubplot:title={'center':'Augmented ImagesPart1 LeNet Model Results'}, xlabel='Epoch', ylabel='y'>"
      ]
     },
     "execution_count": 25,
     "metadata": {},
     "output_type": "execute_result"
    },
    {
     "data": {
      "image/png": "[encoded data removed]",
      "text/plain": [
       "<Figure size 432x288 with 1 Axes>"
      ]
     },
     "metadata": {
      "needs_background": "light"
     },
     "output_type": "display_data"
    }
   ],
   "source": [
    "loss_df = pd.DataFrame(history.history)\n",
    "loss_df.plot(xlabel='Epoch',ylabel='y',title='Augmented ImagesPart1 LeNet Model Results')"
   ]
  },
  {
   "cell_type": "code",
   "execution_count": 26,
   "id": "d0e56cd9-9123-447c-9205-77a612d43574",
   "metadata": {},
   "outputs": [
    {
     "name": "stdout",
     "output_type": "stream",
     "text": [
      "Loss average = 1.0571756084760031\n",
      "Accuracy average = 0.5700541668468051\n"
     ]
    }
   ],
   "source": [
    "print('Loss average = ' + str(np.mean(loss_df['loss'])))\n",
    "print('Accuracy average = ' + str(np.mean(loss_df['accuracy'])))\n",
    "#print('Val_loss average = ' + str(np.mean(loss_df['val_loss'])))\n",
    "#print('Val_accuracy average = ' + str(np.mean(loss_df['val_accuracy'])))"
   ]
  },
  {
   "cell_type": "code",
   "execution_count": 27,
   "id": "10d73f00-38de-48bd-80e2-ca0fa636846d",
   "metadata": {},
   "outputs": [
    {
     "name": "stdout",
     "output_type": "stream",
     "text": [
      "Accuracy average = 0.7012500166893005\n"
     ]
    }
   ],
   "source": [
    "print('Accuracy average = ' + str(np.max(loss_df['accuracy'])))"
   ]
  },
  {
   "cell_type": "code",
   "execution_count": 28,
   "id": "e0584dcf-a8ec-4165-8c25-6219bd249bc9",
   "metadata": {},
   "outputs": [],
   "source": [
    "# Saving a model\n",
    "from tensorflow.keras.models import load_model\n",
    "model.save('./Models/lenet_augImagesPart1_80_20.h5')"
   ]
  },
  {
   "cell_type": "code",
   "execution_count": null,
   "id": "55b87bf0-7977-4f15-a5d5-2340cc64e1ff",
   "metadata": {},
   "outputs": [],
   "source": [
    "later_model = load_model('my_gem_model.h5')\n",
    "later_model.predict(new_gem)"
   ]
  },
  {
   "cell_type": "code",
   "execution_count": 138,
   "id": "32510386-b46d-4403-bdbd-a6f03b8b2a19",
   "metadata": {},
   "outputs": [
    {
     "data": {
      "text/plain": [
       "array([[3.69596362e-01, 3.79122853e-01, 1.49515703e-01, 3.29651684e-02,\n",
       "        3.75025868e-02, 4.63782856e-03, 2.66594030e-02],\n",
       "       [5.17751370e-03, 1.86049771e-02, 1.15459234e-01, 1.39590702e-03,\n",
       "        3.85492802e-01, 7.32359588e-02, 4.00633633e-01],\n",
       "       [1.63392961e-01, 2.13859051e-01, 7.28580207e-02, 5.01822710e-01,\n",
       "        2.81071160e-02, 6.93894969e-03, 1.30212000e-02],\n",
       "       [3.47603947e-01, 2.74494868e-02, 1.60411060e-01, 2.29195446e-01,\n",
       "        1.32644817e-01, 1.67623477e-03, 1.01018906e-01],\n",
       "       [4.99490052e-01, 9.43688303e-02, 2.62497663e-01, 9.24303755e-02,\n",
       "        1.67206079e-02, 5.68338946e-05, 3.44355963e-02],\n",
       "       [6.98847231e-03, 2.41485089e-02, 1.34049043e-01, 2.24127289e-04,\n",
       "        4.80317116e-01, 2.37872023e-02, 3.30485493e-01],\n",
       "       [3.76148405e-03, 2.29128674e-02, 1.06659569e-01, 4.73649794e-04,\n",
       "        3.25137556e-01, 1.91000337e-03, 5.39144933e-01],\n",
       "       [6.01343699e-02, 3.84125888e-01, 1.83475271e-01, 2.60285944e-01,\n",
       "        6.46075159e-02, 7.39723182e-05, 4.72970121e-02],\n",
       "       [3.18697803e-02, 2.15312600e-01, 6.69457391e-02, 2.40672249e-02,\n",
       "        1.17056005e-01, 5.03349900e-01, 4.13987190e-02],\n",
       "       [4.01362702e-02, 4.50532228e-01, 1.57209765e-02, 1.20236918e-01,\n",
       "        6.75877109e-02, 2.96664387e-01, 9.12152231e-03]], dtype=float32)"
      ]
     },
     "execution_count": 138,
     "metadata": {},
     "output_type": "execute_result"
    }
   ],
   "source": [
    "test_predictions = model.predict(X_test)\n",
    "test_predictions[0:10]"
   ]
  },
  {
   "cell_type": "code",
   "execution_count": 121,
   "id": "698dc285-306b-4bee-a312-c755ebac0298",
   "metadata": {},
   "outputs": [
    {
     "data": {
      "text/plain": [
       "array([2, 4, 2, 0, 2, 6, 4, 2, 4, 3], dtype=int64)"
      ]
     },
     "execution_count": 121,
     "metadata": {},
     "output_type": "execute_result"
    }
   ],
   "source": [
    "y_test[0:10]"
   ]
  },
  {
   "cell_type": "code",
   "execution_count": null,
   "id": "07b1bf90-368c-486b-8702-c80542c74da0",
   "metadata": {},
   "outputs": [],
   "source": []
  }
 ],
 "metadata": {
  "kernelspec": {
   "display_name": "Python 3 (ipykernel)",
   "language": "python",
   "name": "python3"
  },
  "language_info": {
   "codemirror_mode": {
    "name": "ipython",
    "version": 3
   },
   "file_extension": ".py",
   "mimetype": "text/x-python",
   "name": "python",
   "nbconvert_exporter": "python",
   "pygments_lexer": "ipython3",
   "version": "3.8.8"
  }
 },
 "nbformat": 4,
 "nbformat_minor": 5
}
